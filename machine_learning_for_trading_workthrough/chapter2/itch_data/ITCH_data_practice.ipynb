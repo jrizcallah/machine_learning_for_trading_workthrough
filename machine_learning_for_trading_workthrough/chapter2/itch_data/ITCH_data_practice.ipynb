{
  "nbformat": 4,
  "nbformat_minor": 0,
  "metadata": {
    "colab": {
      "name": "ITCH_data_practice.ipynb",
      "provenance": []
    },
    "kernelspec": {
      "name": "python3",
      "display_name": "Python 3"
    },
    "language_info": {
      "name": "python"
    },
    "accelerator": "GPU"
  },
  "cells": [
    {
      "cell_type": "code",
      "metadata": {
        "id": "Nsu6op4xFFxi"
      },
      "source": [
        "import gzip\n",
        "import shutil\n",
        "from struct import unpack\n",
        "from collections import namedtuple, Counter, defaultdict\n",
        "from pathlib import Path\n",
        "from urllib.request import urlretrieve\n",
        "from urllib.parse import urljoin\n",
        "from datetime import timedelta\n",
        "from time import time\n",
        "\n",
        "import pandas as pd\n",
        "\n",
        "import matplotlib.pyplot as plt\n",
        "from matplotlib.ticker import FuncFormatter\n",
        "import seaborn as sns"
      ],
      "execution_count": 1,
      "outputs": []
    },
    {
      "cell_type": "code",
      "metadata": {
        "id": "VGHGsP8lfjQR"
      },
      "source": [
        "def format_time(time):\n",
        "  \"\"\" Returns a time with format HH:MM:SS from numeric time value, in seconds \"\"\"\n",
        "  m, s = divmod(time, 60)\n",
        "  h, m = divmod(m, 60)\n",
        "  return f\"{h:0>2.0f}:{m:0>2.0f}:{s:0>5.2f}\""
      ],
      "execution_count": 2,
      "outputs": []
    },
    {
      "cell_type": "markdown",
      "metadata": {
        "id": "JfAnhINZst_c"
      },
      "source": [
        "# ITCH\n",
        "\n",
        "ITCH, shorthand for TotalView-ITCH, is Nasdaq's direct data-feed reporting protocol. It allows subscribers to track individual orders from placement to execution or cancellation. With proper parsing, it allows reconstruction of the order book. Being able to read ITCH data is invaluable for algorithmic trading.\n",
        "\n",
        "So that's what we are going to work on today.\n",
        "\n",
        "Check the TotalView-ITCH documentation here:\n",
        "https://www.nasdaqtrader.com/content/technicalsupport/specifications/dataproducts/NQTVITCHSpecification.pdf"
      ]
    },
    {
      "cell_type": "markdown",
      "metadata": {
        "id": "S8IcK45xhFUz"
      },
      "source": [
        "#### Set Data Paths"
      ]
    },
    {
      "cell_type": "code",
      "metadata": {
        "id": "rZQVsEkEgLTl"
      },
      "source": [
        "data_path = Path('data')\n",
        "itch_store = str(data_path / 'itch.h5')\n",
        "order_book_store = data_path / 'order_book.h5'"
      ],
      "execution_count": 3,
      "outputs": []
    },
    {
      "cell_type": "code",
      "metadata": {
        "id": "PRksRuuPhXbt"
      },
      "source": [
        "FTP_URL = 'ftp://emi.nasdaq.com/ITCH/'\n",
        "SOURCE_FILE = '10302019.NASDAQ_ITCH50.gz'"
      ],
      "execution_count": 4,
      "outputs": []
    },
    {
      "cell_type": "markdown",
      "metadata": {
        "id": "7nGCQuw1imDR"
      },
      "source": [
        "#### Download and Unzip"
      ]
    },
    {
      "cell_type": "code",
      "metadata": {
        "id": "8FcPF-V9hYHc"
      },
      "source": [
        "def download(url):\n",
        "  \"\"\" Download and unzip ITCH data, if available \"\"\"\n",
        "\n",
        "  # create directory if we need to\n",
        "  if not data_path.exists():\n",
        "    data_path.mkdir()\n",
        "    print('Directory Created')\n",
        "  else:\n",
        "    print('Directory Already Exists')\n",
        "\n",
        "  filename = data_path / url.split('/')[-1]\n",
        "\n",
        "  # Download file if need be\n",
        "  if not filename.exists():\n",
        "    print('Downloading file...', url)\n",
        "    urlretrieve(url, filename)\n",
        "  else:\n",
        "    print('File already downloaded')\n",
        "\n",
        "  unzipped = data_path / (filename.stem + '.bin')\n",
        "\n",
        "  # unzip feel if need be\n",
        "  if not unzipped.exists():\n",
        "    print('Unzipping to', unzipped)\n",
        "    with gzip.open(str(filename), 'rb') as f_in:\n",
        "      with open(unzipped, 'wb') as f_out:\n",
        "        shutil.copyfileobj(f_in, f_out)\n",
        "  else:\n",
        "    print('File already unzipped')\n",
        "  \n",
        "  return unzipped"
      ],
      "execution_count": 5,
      "outputs": []
    },
    {
      "cell_type": "code",
      "metadata": {
        "colab": {
          "base_uri": "https://localhost:8080/"
        },
        "id": "WvQaIfWMlybT",
        "outputId": "a057c762-b2d0-408a-bf2c-fcb8fa2c2f15"
      },
      "source": [
        "file_name = download(urljoin(FTP_URL, SOURCE_FILE))\n",
        "date = file_name.name.split('.')[0]"
      ],
      "execution_count": 6,
      "outputs": [
        {
          "output_type": "stream",
          "text": [
            "Directory Created\n",
            "Downloading file... ftp://emi.nasdaq.com/ITCH/10302019.NASDAQ_ITCH50.gz\n",
            "Unzipping to data/10302019.NASDAQ_ITCH50.bin\n"
          ],
          "name": "stdout"
        }
      ]
    },
    {
      "cell_type": "markdown",
      "metadata": {
        "id": "VUsCVZPypTFd"
      },
      "source": [
        "## Processing the file\n",
        "\n",
        "The ITCH data is in a binary file, but thankfully Python has the `struct` module to help us parse the information. \n",
        "\n",
        "I highly recommend taking a look at the module documentation here: \n",
        "https://docs.python.org/3/library/struct.html\n",
        "\n",
        "### Creating Formatting Dictionaries\n",
        "\n",
        "We will use a few dictionaries to \"translate\" the ITCH data into something we can more easily read and understand."
      ]
    },
    {
      "cell_type": "code",
      "metadata": {
        "id": "CRWuvIcdmH-7"
      },
      "source": [
        "event_codes = {'O':'Start of Messages',\n",
        "               'S':'Start of System Hours',\n",
        "               'Q':'Start of Market Hours',\n",
        "               'M':'End of Market Hours',\n",
        "               'E':'End of System Hours',\n",
        "               'C':'End of Messages'}"
      ],
      "execution_count": 7,
      "outputs": []
    },
    {
      "cell_type": "code",
      "metadata": {
        "id": "98YZVwKbq_Q4"
      },
      "source": [
        "variable_encoding = {'primary_market_maker': {'Y':1, 'N':0},\n",
        "                     'printable': {'Y':1, 'N':0},\n",
        "                     'buy_sell_indicator': {'B':1, 'S':-1},\n",
        "                     'cross_type': {'O':0, 'C':1, 'H':2},\n",
        "                     'imbalance_direction': {'B':0, 'S':1, 'N':0, 'O':-1}}"
      ],
      "execution_count": 8,
      "outputs": []
    },
    {
      "cell_type": "code",
      "metadata": {
        "id": "wAfgyCL-rwr-"
      },
      "source": [
        "formatting_dict = {\n",
        "    ('integer', 2):'H',\n",
        "    ('integer', 4):'I',\n",
        "    ('integer', 6):'6s',\n",
        "    ('integer', 8):'Q',\n",
        "\n",
        "    ('alpha', 1):'s',\n",
        "    ('alpha', 2):'2s',\n",
        "    ('alpha', 4):'4s',\n",
        "    ('alpha', 8):'8s',\n",
        "\n",
        "    ('price_4', 4):'I',\n",
        "    ('price_8', 8):'Q'\n",
        "}"
      ],
      "execution_count": 9,
      "outputs": []
    },
    {
      "cell_type": "markdown",
      "metadata": {
        "id": "vTL7W59vtrrR"
      },
      "source": [
        "### Message Types\n",
        "\n",
        "There are many different message types in ITCH, and the protocol includes an encoding system for the different types. It is a pretty long list...but thankfully, Stefan Jansen or one of his collaborators has taken on the tedious task of putting the codes into a .xlsx file for us. \n",
        "\n",
        "Get the file here:\n",
        "https://github.com/stefan-jansen/machine-learning-for-trading/blob/master/02_market_and_fundamental_data/01_NASDAQ_TotalView-ITCH_Order_Book/message_types.xlsx\n",
        "\n"
      ]
    },
    {
      "cell_type": "code",
      "metadata": {
        "colab": {
          "base_uri": "https://localhost:8080/",
          "height": 200
        },
        "id": "ipp1AsFWsZqY",
        "outputId": "4b461f07-a3aa-48e4-edac-b1d2b6f62b10"
      },
      "source": [
        "message_types = pd.read_excel('message_types.xlsx', sheet_name='messages')\n",
        "message_types = message_types.sort_values('id').drop('id', axis=1)\n",
        "message_types.head()"
      ],
      "execution_count": 10,
      "outputs": [
        {
          "output_type": "execute_result",
          "data": {
            "text/html": [
              "<div>\n",
              "<style scoped>\n",
              "    .dataframe tbody tr th:only-of-type {\n",
              "        vertical-align: middle;\n",
              "    }\n",
              "\n",
              "    .dataframe tbody tr th {\n",
              "        vertical-align: top;\n",
              "    }\n",
              "\n",
              "    .dataframe thead th {\n",
              "        text-align: right;\n",
              "    }\n",
              "</style>\n",
              "<table border=\"1\" class=\"dataframe\">\n",
              "  <thead>\n",
              "    <tr style=\"text-align: right;\">\n",
              "      <th></th>\n",
              "      <th>Name</th>\n",
              "      <th>Offset</th>\n",
              "      <th>Length</th>\n",
              "      <th>Value</th>\n",
              "      <th>Notes</th>\n",
              "    </tr>\n",
              "  </thead>\n",
              "  <tbody>\n",
              "    <tr>\n",
              "      <th>0</th>\n",
              "      <td>Message Type</td>\n",
              "      <td>0</td>\n",
              "      <td>1</td>\n",
              "      <td>S</td>\n",
              "      <td>System Event Message</td>\n",
              "    </tr>\n",
              "    <tr>\n",
              "      <th>1</th>\n",
              "      <td>Stock Locate</td>\n",
              "      <td>1</td>\n",
              "      <td>2</td>\n",
              "      <td>Integer</td>\n",
              "      <td>Always 0</td>\n",
              "    </tr>\n",
              "    <tr>\n",
              "      <th>2</th>\n",
              "      <td>Tracking Number</td>\n",
              "      <td>3</td>\n",
              "      <td>2</td>\n",
              "      <td>Integer</td>\n",
              "      <td>Nasdaq internal tracking number</td>\n",
              "    </tr>\n",
              "    <tr>\n",
              "      <th>3</th>\n",
              "      <td>Timestamp</td>\n",
              "      <td>5</td>\n",
              "      <td>6</td>\n",
              "      <td>Integer</td>\n",
              "      <td>Nanoseconds since midnight</td>\n",
              "    </tr>\n",
              "    <tr>\n",
              "      <th>4</th>\n",
              "      <td>Event Code</td>\n",
              "      <td>11</td>\n",
              "      <td>1</td>\n",
              "      <td>Alpha</td>\n",
              "      <td>See System Event Codes below</td>\n",
              "    </tr>\n",
              "  </tbody>\n",
              "</table>\n",
              "</div>"
            ],
            "text/plain": [
              "              Name   Offset   ...    Value                             Notes \n",
              "0     Message Type         0  ...         S             System Event Message \n",
              "1     Stock Locate         1  ...  Integer                          Always 0 \n",
              "2  Tracking Number         3  ...  Integer   Nasdaq internal tracking number \n",
              "3        Timestamp         5  ...  Integer        Nanoseconds since midnight \n",
              "4       Event Code        11  ...    Alpha      See System Event Codes below \n",
              "\n",
              "[5 rows x 5 columns]"
            ]
          },
          "metadata": {
            "tags": []
          },
          "execution_count": 10
        }
      ]
    },
    {
      "cell_type": "markdown",
      "metadata": {
        "id": "cGtZRxERvF2s"
      },
      "source": [
        "#### Clean the message_types Data"
      ]
    },
    {
      "cell_type": "code",
      "metadata": {
        "id": "X2XRa912uzAL"
      },
      "source": [
        "def clean_message_types(data):\n",
        "  \"\"\" Cleans up the message_types DataFrame, making it easier to work with in Python \"\"\"\n",
        "  data.columns = [c.lower().strip() for c in data.columns]\n",
        "  data.value = data.value.str.strip()\n",
        "  data.name = (data.name.str.strip().str.lower().str.replace(' ', '_').str.replace('-', '_').str.replace('/', '_'))\n",
        "  data.notes = data.notes.str.strip()\n",
        "  data['message_type'] = data.loc[data.name == 'message_type', 'value']\n",
        "  \n",
        "  return data"
      ],
      "execution_count": 11,
      "outputs": []
    },
    {
      "cell_type": "code",
      "metadata": {
        "id": "NAf_aU9Cvknx"
      },
      "source": [
        "message_types = clean_message_types(message_types)"
      ],
      "execution_count": 12,
      "outputs": []
    },
    {
      "cell_type": "code",
      "metadata": {
        "colab": {
          "base_uri": "https://localhost:8080/",
          "height": 200
        },
        "id": "h7w4FpEWwq-R",
        "outputId": "7db19b24-7580-42d7-d383-fc1c8428e9fd"
      },
      "source": [
        "message_types.head()"
      ],
      "execution_count": 13,
      "outputs": [
        {
          "output_type": "execute_result",
          "data": {
            "text/html": [
              "<div>\n",
              "<style scoped>\n",
              "    .dataframe tbody tr th:only-of-type {\n",
              "        vertical-align: middle;\n",
              "    }\n",
              "\n",
              "    .dataframe tbody tr th {\n",
              "        vertical-align: top;\n",
              "    }\n",
              "\n",
              "    .dataframe thead th {\n",
              "        text-align: right;\n",
              "    }\n",
              "</style>\n",
              "<table border=\"1\" class=\"dataframe\">\n",
              "  <thead>\n",
              "    <tr style=\"text-align: right;\">\n",
              "      <th></th>\n",
              "      <th>name</th>\n",
              "      <th>offset</th>\n",
              "      <th>length</th>\n",
              "      <th>value</th>\n",
              "      <th>notes</th>\n",
              "      <th>message_type</th>\n",
              "    </tr>\n",
              "  </thead>\n",
              "  <tbody>\n",
              "    <tr>\n",
              "      <th>0</th>\n",
              "      <td>message_type</td>\n",
              "      <td>0</td>\n",
              "      <td>1</td>\n",
              "      <td>S</td>\n",
              "      <td>System Event Message</td>\n",
              "      <td>S</td>\n",
              "    </tr>\n",
              "    <tr>\n",
              "      <th>1</th>\n",
              "      <td>stock_locate</td>\n",
              "      <td>1</td>\n",
              "      <td>2</td>\n",
              "      <td>Integer</td>\n",
              "      <td>Always 0</td>\n",
              "      <td>NaN</td>\n",
              "    </tr>\n",
              "    <tr>\n",
              "      <th>2</th>\n",
              "      <td>tracking_number</td>\n",
              "      <td>3</td>\n",
              "      <td>2</td>\n",
              "      <td>Integer</td>\n",
              "      <td>Nasdaq internal tracking number</td>\n",
              "      <td>NaN</td>\n",
              "    </tr>\n",
              "    <tr>\n",
              "      <th>3</th>\n",
              "      <td>timestamp</td>\n",
              "      <td>5</td>\n",
              "      <td>6</td>\n",
              "      <td>Integer</td>\n",
              "      <td>Nanoseconds since midnight</td>\n",
              "      <td>NaN</td>\n",
              "    </tr>\n",
              "    <tr>\n",
              "      <th>4</th>\n",
              "      <td>event_code</td>\n",
              "      <td>11</td>\n",
              "      <td>1</td>\n",
              "      <td>Alpha</td>\n",
              "      <td>See System Event Codes below</td>\n",
              "      <td>NaN</td>\n",
              "    </tr>\n",
              "  </tbody>\n",
              "</table>\n",
              "</div>"
            ],
            "text/plain": [
              "              name  offset  ...                            notes message_type\n",
              "0     message_type       0  ...             System Event Message            S\n",
              "1     stock_locate       1  ...                         Always 0          NaN\n",
              "2  tracking_number       3  ...  Nasdaq internal tracking number          NaN\n",
              "3        timestamp       5  ...       Nanoseconds since midnight          NaN\n",
              "4       event_code      11  ...     See System Event Codes below          NaN\n",
              "\n",
              "[5 rows x 6 columns]"
            ]
          },
          "metadata": {
            "tags": []
          },
          "execution_count": 13
        }
      ]
    },
    {
      "cell_type": "markdown",
      "metadata": {
        "id": "VYwXwCqIw6c3"
      },
      "source": [
        "We are also going to extract the message_types so we can easily replace them with message_labels to make it more readable."
      ]
    },
    {
      "cell_type": "code",
      "metadata": {
        "colab": {
          "base_uri": "https://localhost:8080/",
          "height": 200
        },
        "id": "2UJKFWxNwv-A",
        "outputId": "4bfd0e32-abbd-4afc-d151-74493b1d17d8"
      },
      "source": [
        "message_labels = message_types.loc[:, ['message_type', 'notes']].dropna()\n",
        "message_labels.columns = ['message_type', 'name']\n",
        "message_labels.name = message_labels.name.str.lower().str.replace('message', '').str.replace('.', '').str.strip().str.replace(' ', '_')\n",
        "message_labels.head()"
      ],
      "execution_count": 14,
      "outputs": [
        {
          "output_type": "execute_result",
          "data": {
            "text/html": [
              "<div>\n",
              "<style scoped>\n",
              "    .dataframe tbody tr th:only-of-type {\n",
              "        vertical-align: middle;\n",
              "    }\n",
              "\n",
              "    .dataframe tbody tr th {\n",
              "        vertical-align: top;\n",
              "    }\n",
              "\n",
              "    .dataframe thead th {\n",
              "        text-align: right;\n",
              "    }\n",
              "</style>\n",
              "<table border=\"1\" class=\"dataframe\">\n",
              "  <thead>\n",
              "    <tr style=\"text-align: right;\">\n",
              "      <th></th>\n",
              "      <th>message_type</th>\n",
              "      <th>name</th>\n",
              "    </tr>\n",
              "  </thead>\n",
              "  <tbody>\n",
              "    <tr>\n",
              "      <th>0</th>\n",
              "      <td>S</td>\n",
              "      <td>system_event</td>\n",
              "    </tr>\n",
              "    <tr>\n",
              "      <th>5</th>\n",
              "      <td>R</td>\n",
              "      <td>stock_directory</td>\n",
              "    </tr>\n",
              "    <tr>\n",
              "      <th>23</th>\n",
              "      <td>H</td>\n",
              "      <td>stock_trading_action</td>\n",
              "    </tr>\n",
              "    <tr>\n",
              "      <th>31</th>\n",
              "      <td>Y</td>\n",
              "      <td>reg_sho_short_sale_price_test_restricted_indic...</td>\n",
              "    </tr>\n",
              "    <tr>\n",
              "      <th>37</th>\n",
              "      <td>L</td>\n",
              "      <td>market_participant_position</td>\n",
              "    </tr>\n",
              "  </tbody>\n",
              "</table>\n",
              "</div>"
            ],
            "text/plain": [
              "   message_type                                               name\n",
              "0             S                                       system_event\n",
              "5             R                                    stock_directory\n",
              "23            H                               stock_trading_action\n",
              "31            Y  reg_sho_short_sale_price_test_restricted_indic...\n",
              "37            L                        market_participant_position"
            ]
          },
          "metadata": {
            "tags": []
          },
          "execution_count": 14
        }
      ]
    },
    {
      "cell_type": "markdown",
      "metadata": {
        "id": "Zy57wMBPCeMP"
      },
      "source": [
        "### Finalize Message Types"
      ]
    },
    {
      "cell_type": "code",
      "metadata": {
        "colab": {
          "base_uri": "https://localhost:8080/",
          "height": 200
        },
        "id": "QHjGmx4wxRFx",
        "outputId": "aa2a4a93-509a-4c66-f6e4-92d1e62a7302"
      },
      "source": [
        "message_types['message_type'] = message_types['message_type'].ffill()\n",
        "message_types = message_types[message_types['name'] != 'message_type']\n",
        "message_types['value'] = message_types['value'].str.lower().str.replace(' ', '_').str.replace('(', '').str.replace(')', '')\n",
        "message_types.head()"
      ],
      "execution_count": 15,
      "outputs": [
        {
          "output_type": "execute_result",
          "data": {
            "text/html": [
              "<div>\n",
              "<style scoped>\n",
              "    .dataframe tbody tr th:only-of-type {\n",
              "        vertical-align: middle;\n",
              "    }\n",
              "\n",
              "    .dataframe tbody tr th {\n",
              "        vertical-align: top;\n",
              "    }\n",
              "\n",
              "    .dataframe thead th {\n",
              "        text-align: right;\n",
              "    }\n",
              "</style>\n",
              "<table border=\"1\" class=\"dataframe\">\n",
              "  <thead>\n",
              "    <tr style=\"text-align: right;\">\n",
              "      <th></th>\n",
              "      <th>name</th>\n",
              "      <th>offset</th>\n",
              "      <th>length</th>\n",
              "      <th>value</th>\n",
              "      <th>notes</th>\n",
              "      <th>message_type</th>\n",
              "    </tr>\n",
              "  </thead>\n",
              "  <tbody>\n",
              "    <tr>\n",
              "      <th>1</th>\n",
              "      <td>stock_locate</td>\n",
              "      <td>1</td>\n",
              "      <td>2</td>\n",
              "      <td>integer</td>\n",
              "      <td>Always 0</td>\n",
              "      <td>S</td>\n",
              "    </tr>\n",
              "    <tr>\n",
              "      <th>2</th>\n",
              "      <td>tracking_number</td>\n",
              "      <td>3</td>\n",
              "      <td>2</td>\n",
              "      <td>integer</td>\n",
              "      <td>Nasdaq internal tracking number</td>\n",
              "      <td>S</td>\n",
              "    </tr>\n",
              "    <tr>\n",
              "      <th>3</th>\n",
              "      <td>timestamp</td>\n",
              "      <td>5</td>\n",
              "      <td>6</td>\n",
              "      <td>integer</td>\n",
              "      <td>Nanoseconds since midnight</td>\n",
              "      <td>S</td>\n",
              "    </tr>\n",
              "    <tr>\n",
              "      <th>4</th>\n",
              "      <td>event_code</td>\n",
              "      <td>11</td>\n",
              "      <td>1</td>\n",
              "      <td>alpha</td>\n",
              "      <td>See System Event Codes below</td>\n",
              "      <td>S</td>\n",
              "    </tr>\n",
              "    <tr>\n",
              "      <th>6</th>\n",
              "      <td>stock_locate</td>\n",
              "      <td>1</td>\n",
              "      <td>2</td>\n",
              "      <td>integer</td>\n",
              "      <td>Locate Code uniquely assigned to the security ...</td>\n",
              "      <td>R</td>\n",
              "    </tr>\n",
              "  </tbody>\n",
              "</table>\n",
              "</div>"
            ],
            "text/plain": [
              "              name  ...  message_type\n",
              "1     stock_locate  ...             S\n",
              "2  tracking_number  ...             S\n",
              "3        timestamp  ...             S\n",
              "4       event_code  ...             S\n",
              "6     stock_locate  ...             R\n",
              "\n",
              "[5 rows x 6 columns]"
            ]
          },
          "metadata": {
            "tags": []
          },
          "execution_count": 15
        }
      ]
    },
    {
      "cell_type": "code",
      "metadata": {
        "colab": {
          "base_uri": "https://localhost:8080/"
        },
        "id": "cPJRmt8kDNqy",
        "outputId": "ac33cda7-2868-4778-ad54-4b09e37544f6"
      },
      "source": [
        "message_types.info()"
      ],
      "execution_count": 16,
      "outputs": [
        {
          "output_type": "stream",
          "text": [
            "<class 'pandas.core.frame.DataFrame'>\n",
            "Int64Index: 152 entries, 1 to 172\n",
            "Data columns (total 6 columns):\n",
            " #   Column        Non-Null Count  Dtype \n",
            "---  ------        --------------  ----- \n",
            " 0   name          152 non-null    object\n",
            " 1   offset        152 non-null    int64 \n",
            " 2   length        152 non-null    int64 \n",
            " 3   value         152 non-null    object\n",
            " 4   notes         152 non-null    object\n",
            " 5   message_type  152 non-null    object\n",
            "dtypes: int64(2), object(4)\n",
            "memory usage: 8.3+ KB\n"
          ],
          "name": "stdout"
        }
      ]
    },
    {
      "cell_type": "markdown",
      "metadata": {
        "id": "edi8dtBuDX9v"
      },
      "source": [
        "### Save Cleaned message_types DataFrame to .csv file"
      ]
    },
    {
      "cell_type": "code",
      "metadata": {
        "id": "CV2S53kzDP9U"
      },
      "source": [
        "#message_types.to_csv('clean_message_types.csv', index=False)"
      ],
      "execution_count": 17,
      "outputs": []
    },
    {
      "cell_type": "code",
      "metadata": {
        "id": "TLhVTEgRDoJY"
      },
      "source": [
        "message_types = pd.read_csv('clean_message_types.csv')"
      ],
      "execution_count": 18,
      "outputs": []
    },
    {
      "cell_type": "markdown",
      "metadata": {
        "id": "wE8NCU19DxZ1"
      },
      "source": [
        "## Use message_types to format ITCH data!"
      ]
    },
    {
      "cell_type": "code",
      "metadata": {
        "colab": {
          "base_uri": "https://localhost:8080/"
        },
        "id": "FMgcyPpeD3g3",
        "outputId": "44304d11-89c7-482f-858a-5cc868098167"
      },
      "source": [
        "# create format tuples\n",
        "format_tuples = message_types[['value', 'length']].apply(tuple, axis=1).map(formatting_dict)\n",
        "format_tuples"
      ],
      "execution_count": 19,
      "outputs": [
        {
          "output_type": "execute_result",
          "data": {
            "text/plain": [
              "0       H\n",
              "1       H\n",
              "2      6s\n",
              "3       s\n",
              "4       H\n",
              "       ..\n",
              "147     I\n",
              "148     I\n",
              "149     I\n",
              "150     s\n",
              "151     s\n",
              "Length: 152, dtype: object"
            ]
          },
          "metadata": {
            "tags": []
          },
          "execution_count": 19
        }
      ]
    },
    {
      "cell_type": "code",
      "metadata": {
        "id": "Dnxh2n8BGWXu"
      },
      "source": [
        "message_types['format'] = format_tuples\n",
        "alphas = message_types[message_types['value'] == 'alpha']\n",
        "alphas = alphas.set_index('name')\n",
        "alphas_grouped = alphas.groupby('message_type')\n",
        "alphas_formats = {k:v.to_dict() for k, v in alphas_grouped['format']}\n",
        "alphas_lengths = {k:v.add(5).to_dict() for k, v in alphas_grouped['length']}"
      ],
      "execution_count": 20,
      "outputs": []
    },
    {
      "cell_type": "code",
      "metadata": {
        "id": "uA5j0aivGtWG"
      },
      "source": [
        "# create message classes\n",
        "message_classes, fstrings = {}, {}\n",
        "for t, message in message_types.groupby('message_type'):\n",
        "  message_classes[t] = namedtuple(typename=t, field_names=message['name'].tolist())\n",
        "  fstrings[t] = '>' + ''.join(message['format'].tolist())"
      ],
      "execution_count": 21,
      "outputs": []
    },
    {
      "cell_type": "code",
      "metadata": {
        "colab": {
          "base_uri": "https://localhost:8080/",
          "height": 295
        },
        "id": "xmskcZ1RHa9-",
        "outputId": "dad6982a-1a55-468a-f3f9-ed344cef013d"
      },
      "source": [
        "alphas.head()"
      ],
      "execution_count": 22,
      "outputs": [
        {
          "output_type": "execute_result",
          "data": {
            "text/html": [
              "<div>\n",
              "<style scoped>\n",
              "    .dataframe tbody tr th:only-of-type {\n",
              "        vertical-align: middle;\n",
              "    }\n",
              "\n",
              "    .dataframe tbody tr th {\n",
              "        vertical-align: top;\n",
              "    }\n",
              "\n",
              "    .dataframe thead th {\n",
              "        text-align: right;\n",
              "    }\n",
              "</style>\n",
              "<table border=\"1\" class=\"dataframe\">\n",
              "  <thead>\n",
              "    <tr style=\"text-align: right;\">\n",
              "      <th></th>\n",
              "      <th>offset</th>\n",
              "      <th>length</th>\n",
              "      <th>value</th>\n",
              "      <th>notes</th>\n",
              "      <th>message_type</th>\n",
              "      <th>format</th>\n",
              "    </tr>\n",
              "    <tr>\n",
              "      <th>name</th>\n",
              "      <th></th>\n",
              "      <th></th>\n",
              "      <th></th>\n",
              "      <th></th>\n",
              "      <th></th>\n",
              "      <th></th>\n",
              "    </tr>\n",
              "  </thead>\n",
              "  <tbody>\n",
              "    <tr>\n",
              "      <th>event_code</th>\n",
              "      <td>11</td>\n",
              "      <td>1</td>\n",
              "      <td>alpha</td>\n",
              "      <td>See System Event Codes below</td>\n",
              "      <td>S</td>\n",
              "      <td>s</td>\n",
              "    </tr>\n",
              "    <tr>\n",
              "      <th>stock</th>\n",
              "      <td>11</td>\n",
              "      <td>8</td>\n",
              "      <td>alpha</td>\n",
              "      <td>Denotes the security symbol for the issue in t...</td>\n",
              "      <td>R</td>\n",
              "      <td>8s</td>\n",
              "    </tr>\n",
              "    <tr>\n",
              "      <th>market_category</th>\n",
              "      <td>19</td>\n",
              "      <td>1</td>\n",
              "      <td>alpha</td>\n",
              "      <td>Indicates Listing market or listing market tie...</td>\n",
              "      <td>R</td>\n",
              "      <td>s</td>\n",
              "    </tr>\n",
              "    <tr>\n",
              "      <th>financial_status_indicator</th>\n",
              "      <td>20</td>\n",
              "      <td>1</td>\n",
              "      <td>alpha</td>\n",
              "      <td>For Nasdaq listed issues, this field indicates...</td>\n",
              "      <td>R</td>\n",
              "      <td>s</td>\n",
              "    </tr>\n",
              "    <tr>\n",
              "      <th>round_lots_only</th>\n",
              "      <td>25</td>\n",
              "      <td>1</td>\n",
              "      <td>alpha</td>\n",
              "      <td>Indicates if Nasdaq system limits order entry ...</td>\n",
              "      <td>R</td>\n",
              "      <td>s</td>\n",
              "    </tr>\n",
              "  </tbody>\n",
              "</table>\n",
              "</div>"
            ],
            "text/plain": [
              "                            offset  length  ... message_type format\n",
              "name                                        ...                    \n",
              "event_code                      11       1  ...            S      s\n",
              "stock                           11       8  ...            R     8s\n",
              "market_category                 19       1  ...            R      s\n",
              "financial_status_indicator      20       1  ...            R      s\n",
              "round_lots_only                 25       1  ...            R      s\n",
              "\n",
              "[5 rows x 6 columns]"
            ]
          },
          "metadata": {
            "tags": []
          },
          "execution_count": 22
        }
      ]
    },
    {
      "cell_type": "code",
      "metadata": {
        "id": "nJvNEew6Ibpr"
      },
      "source": [
        "# post-processing function for alphanumeric fields\n",
        "def format_alpha(mtype, data):\n",
        "  \"\"\" processes bytes of alphanumeric data (type alpha) \"\"\"\n",
        "  for col in alphas_formats.get(mtype).keys():\n",
        "    if mtype != 'R' and col == 'stock':\n",
        "      data = data.drop(col, axis=1)\n",
        "      continue\n",
        "    data.loc[:, col] = data.loc[:, col].str.decode('utf-8').str.strip()\n",
        "    \n",
        "    if variable_encoding.get(col):\n",
        "      data.loc[:, col] = data.loc[:, col].map(variable_encoding.get(col))\n",
        "\n",
        "  return data"
      ],
      "execution_count": 23,
      "outputs": []
    },
    {
      "cell_type": "markdown",
      "metadata": {
        "id": "lRVGqINgJo9s"
      },
      "source": [
        "## Get messages from Binary file!"
      ]
    },
    {
      "cell_type": "code",
      "metadata": {
        "id": "5hV9nei1IuMt"
      },
      "source": [
        "def get_messages(m):\n",
        "  \"\"\" get the messages from the binary file! \"\"\"\n",
        "  # open file\n",
        "  with pd.HDFStore(itch_store) as store:\n",
        "    # cycle through messages\n",
        "    for mtype, data in m.items():\n",
        "      # change data to DataFrame\n",
        "      data = pd.DataFrame(data)\n",
        "\n",
        "      # parse timestamps\n",
        "      data.timestamp = data.timestamp.apply(int.from_bytes, byteorder='big')\n",
        "      data.timestamp = pd.to_timedelta(data.timestamp)\n",
        "\n",
        "      # format_alpha\n",
        "      if mtype in alphas_formats.keys():\n",
        "        data = format_alpha(mtype, data)\n",
        "\n",
        "      s = alphas_lengths.get(mtype)\n",
        "\n",
        "      if s:\n",
        "        s = {c:s.get(c) for c in data.columns}\n",
        "      \n",
        "      dc = ['stock_locate']\n",
        "\n",
        "      if m == 'R':\n",
        "        dc.append('stock')\n",
        "\n",
        "      try:\n",
        "        store.append(mtype, data, format='t', min_itemsize=s, data_columns=dc)\n",
        "\n",
        "      except Exception as e:\n",
        "        print(e)\n",
        "        print(mtype)\n",
        "        print(data.info())\n",
        "        print(pd.Series(list(m.keys())).value_counts())\n",
        "        data.to_csv('data.csv', index=False)\n",
        "        return 1\n",
        "  return 0"
      ],
      "execution_count": 24,
      "outputs": []
    },
    {
      "cell_type": "code",
      "metadata": {
        "id": "np9fU0MZMLmW"
      },
      "source": [
        "messages = defaultdict(list)\n",
        "message_count = 0\n",
        "message_type_counter = Counter()"
      ],
      "execution_count": 25,
      "outputs": []
    },
    {
      "cell_type": "code",
      "metadata": {
        "colab": {
          "base_uri": "https://localhost:8080/"
        },
        "id": "NvO0LfKtzhnB",
        "outputId": "f8bd311c-c7e0-4c93-9644-0a7135e8ef7c"
      },
      "source": [
        "start = time()\n",
        "with file_name.open('rb') as data:\n",
        "  while True:\n",
        "\n",
        "    # message size\n",
        "    message_size = int.from_bytes(data.read(2), byteorder='big', signed=False)\n",
        "\n",
        "    # message type is first byte\n",
        "    message_type = data.read(1).decode('ascii')\n",
        "    # count message type\n",
        "    message_type_counter.update([message_type])\n",
        "\n",
        "    # read message\n",
        "    record = data.read(message_size - 1)\n",
        "    message = message_classes[message_type]._make(unpack(fstrings[message_type], record))\n",
        "\n",
        "    # store message\n",
        "    messages[message_type].append(message)\n",
        "\n",
        "    # system events\n",
        "    if message_type == 'S':\n",
        "        seconds = int.from_bytes(message.timestamp, byteorder='big') * 1e-9\n",
        "        print('\\n', event_codes.get(message.event_code.decode('ascii'), 'Error'))\n",
        "        print(f'\\t{format_time(seconds)}\\t{message_count:12,.0f}')\n",
        "        if message.event_code.decode('ascii') == 'C':\n",
        "          get_messages(messages)\n",
        "          break\n",
        "\n",
        "    message_count += 1\n",
        "\n",
        "    if message_count % 2.5e7 == 0:\n",
        "      seconds = int.from_bytes(message.timestamp, byteorder='big') * 1e-9\n",
        "      d = format_time(time() - start)\n",
        "      print(f'\\t{format_time(seconds)}\\t{message_count:12,.0f}\\t{d}')\n",
        "      res = get_messages(messages)\n",
        "\n",
        "      if res == 1:\n",
        "        print(pd.Series(dict(message_type_counter)).sort_values())\n",
        "        break\n",
        "      messages.clear()\n",
        "\n",
        "print('Duration', format_time(time() - start))\n"
      ],
      "execution_count": 26,
      "outputs": [
        {
          "output_type": "stream",
          "text": [
            "\n",
            " Start of Messages\n",
            "\t03:02:31.65\t           0\n",
            "\n",
            " Start of System Hours\n",
            "\t04:00:00.00\t     241,258\n",
            "\n",
            " Start of Market Hours\n",
            "\t09:30:00.00\t   9,559,279\n",
            "\t09:44:09.23\t  25,000,000\t00:01:47.99\n",
            "\t10:07:45.15\t  50,000,000\t00:05:58.63\n",
            "\t10:39:56.24\t  75,000,000\t00:09:51.64\n",
            "\t11:18:09.64\t 100,000,000\t00:13:42.77\n",
            "\t11:58:35.35\t 125,000,000\t00:17:37.89\n",
            "\t12:44:20.61\t 150,000,000\t00:21:35.27\n"
          ],
          "name": "stdout"
        },
        {
          "output_type": "stream",
          "text": [
            "/usr/local/lib/python3.7/dist-packages/tables/file.py:432: UserWarning: a closed node found in the registry: ``/A/_i_table/timestamp/sortedLR``\n",
            "  \"``%s``\" % key)\n",
            "/usr/local/lib/python3.7/dist-packages/tables/file.py:432: UserWarning: a closed node found in the registry: ``/A/_i_table/timestamp/indicesLR``\n",
            "  \"``%s``\" % key)\n"
          ],
          "name": "stderr"
        },
        {
          "output_type": "stream",
          "text": [
            "\t13:41:03.75\t 175,000,000\t00:25:34.92\n"
          ],
          "name": "stdout"
        },
        {
          "output_type": "stream",
          "text": [
            "/usr/local/lib/python3.7/dist-packages/tables/file.py:432: UserWarning: a closed node found in the registry: ``/A/_i_table/timestamp``\n",
            "  \"``%s``\" % key)\n",
            "/usr/local/lib/python3.7/dist-packages/tables/file.py:432: UserWarning: a closed node found in the registry: ``/A/_i_table/timestamp/sorted``\n",
            "  \"``%s``\" % key)\n",
            "/usr/local/lib/python3.7/dist-packages/tables/file.py:432: UserWarning: a closed node found in the registry: ``/A/_i_table/timestamp/indices``\n",
            "  \"``%s``\" % key)\n",
            "/usr/local/lib/python3.7/dist-packages/tables/file.py:432: UserWarning: a closed node found in the registry: ``/A/_i_table/order_reference_number``\n",
            "  \"``%s``\" % key)\n",
            "/usr/local/lib/python3.7/dist-packages/tables/file.py:432: UserWarning: a closed node found in the registry: ``/A/_i_table/order_reference_number/sorted``\n",
            "  \"``%s``\" % key)\n",
            "/usr/local/lib/python3.7/dist-packages/tables/file.py:432: UserWarning: a closed node found in the registry: ``/A/_i_table/order_reference_number/indices``\n",
            "  \"``%s``\" % key)\n",
            "/usr/local/lib/python3.7/dist-packages/tables/file.py:432: UserWarning: a closed node found in the registry: ``/A/_i_table/order_reference_number/sortedLR``\n",
            "  \"``%s``\" % key)\n",
            "/usr/local/lib/python3.7/dist-packages/tables/file.py:432: UserWarning: a closed node found in the registry: ``/A/_i_table/order_reference_number/indicesLR``\n",
            "  \"``%s``\" % key)\n"
          ],
          "name": "stderr"
        },
        {
          "output_type": "stream",
          "text": [
            "\t14:18:44.52\t 200,000,000\t00:29:36.59\n",
            "\t14:49:19.38\t 225,000,000\t00:33:41.39\n",
            "\t15:19:40.72\t 250,000,000\t00:37:42.32\n",
            "\t15:50:23.01\t 275,000,000\t00:41:45.51\n",
            "\n",
            " End of Market Hours\n",
            "\t16:00:00.00\t 290,920,164\n",
            "\n",
            " End of System Hours\n",
            "\t20:00:00.00\t 293,944,863\n",
            "\n",
            " End of Messages\n",
            "\t20:05:00.00\t 293,989,078\n",
            "Duration 00:47:05.03\n"
          ],
          "name": "stdout"
        }
      ]
    },
    {
      "cell_type": "markdown",
      "metadata": {
        "id": "HxR4DF2uDYUW"
      },
      "source": [
        "## Get a Summary of the Trading Day!"
      ]
    },
    {
      "cell_type": "code",
      "metadata": {
        "id": "nTR-Gjx42akp",
        "colab": {
          "base_uri": "https://localhost:8080/",
          "height": 592
        },
        "outputId": "6fcd4f9b-7d82-4cda-9ce1-986088677791"
      },
      "source": [
        "counter = pd.Series(message_type_counter).to_frame('Number of Trades')\n",
        "counter['Message Type'] = counter.index.map(message_labels.set_index('message_type')['name'].to_dict())\n",
        "counter = counter[['Message Type', 'Number of Trades']].sort_values('Number of Trades', ascending=False)\n",
        "counter"
      ],
      "execution_count": 27,
      "outputs": [
        {
          "output_type": "execute_result",
          "data": {
            "text/html": [
              "<div>\n",
              "<style scoped>\n",
              "    .dataframe tbody tr th:only-of-type {\n",
              "        vertical-align: middle;\n",
              "    }\n",
              "\n",
              "    .dataframe tbody tr th {\n",
              "        vertical-align: top;\n",
              "    }\n",
              "\n",
              "    .dataframe thead th {\n",
              "        text-align: right;\n",
              "    }\n",
              "</style>\n",
              "<table border=\"1\" class=\"dataframe\">\n",
              "  <thead>\n",
              "    <tr style=\"text-align: right;\">\n",
              "      <th></th>\n",
              "      <th>Message Type</th>\n",
              "      <th>Number of Trades</th>\n",
              "    </tr>\n",
              "  </thead>\n",
              "  <tbody>\n",
              "    <tr>\n",
              "      <th>A</th>\n",
              "      <td>add_order_no_mpid_attribution</td>\n",
              "      <td>127214649</td>\n",
              "    </tr>\n",
              "    <tr>\n",
              "      <th>D</th>\n",
              "      <td>order_delete</td>\n",
              "      <td>123296742</td>\n",
              "    </tr>\n",
              "    <tr>\n",
              "      <th>U</th>\n",
              "      <td>order_replace</td>\n",
              "      <td>25513651</td>\n",
              "    </tr>\n",
              "    <tr>\n",
              "      <th>E</th>\n",
              "      <td>order_executed</td>\n",
              "      <td>7316703</td>\n",
              "    </tr>\n",
              "    <tr>\n",
              "      <th>I</th>\n",
              "      <td>noii</td>\n",
              "      <td>3740140</td>\n",
              "    </tr>\n",
              "    <tr>\n",
              "      <th>X</th>\n",
              "      <td>order_cancel</td>\n",
              "      <td>3568735</td>\n",
              "    </tr>\n",
              "    <tr>\n",
              "      <th>P</th>\n",
              "      <td>trade</td>\n",
              "      <td>1525363</td>\n",
              "    </tr>\n",
              "    <tr>\n",
              "      <th>F</th>\n",
              "      <td>add_order_mpid_attribution</td>\n",
              "      <td>1423908</td>\n",
              "    </tr>\n",
              "    <tr>\n",
              "      <th>L</th>\n",
              "      <td>market_participant_position</td>\n",
              "      <td>214865</td>\n",
              "    </tr>\n",
              "    <tr>\n",
              "      <th>C</th>\n",
              "      <td>order_executed_with_price</td>\n",
              "      <td>129729</td>\n",
              "    </tr>\n",
              "    <tr>\n",
              "      <th>Q</th>\n",
              "      <td>cross_trade</td>\n",
              "      <td>17775</td>\n",
              "    </tr>\n",
              "    <tr>\n",
              "      <th>Y</th>\n",
              "      <td>reg_sho_short_sale_price_test_restricted_indic...</td>\n",
              "      <td>9025</td>\n",
              "    </tr>\n",
              "    <tr>\n",
              "      <th>H</th>\n",
              "      <td>stock_trading_action</td>\n",
              "      <td>8897</td>\n",
              "    </tr>\n",
              "    <tr>\n",
              "      <th>R</th>\n",
              "      <td>stock_directory</td>\n",
              "      <td>8887</td>\n",
              "    </tr>\n",
              "    <tr>\n",
              "      <th>S</th>\n",
              "      <td>system_event</td>\n",
              "      <td>6</td>\n",
              "    </tr>\n",
              "    <tr>\n",
              "      <th>J</th>\n",
              "      <td>luld_auction_collar</td>\n",
              "      <td>2</td>\n",
              "    </tr>\n",
              "    <tr>\n",
              "      <th>V</th>\n",
              "      <td>market_wide_circuit_breaker_decline_level</td>\n",
              "      <td>1</td>\n",
              "    </tr>\n",
              "    <tr>\n",
              "      <th>B</th>\n",
              "      <td>broken_trade</td>\n",
              "      <td>1</td>\n",
              "    </tr>\n",
              "  </tbody>\n",
              "</table>\n",
              "</div>"
            ],
            "text/plain": [
              "                                        Message Type  Number of Trades\n",
              "A                      add_order_no_mpid_attribution         127214649\n",
              "D                                       order_delete         123296742\n",
              "U                                      order_replace          25513651\n",
              "E                                     order_executed           7316703\n",
              "I                                               noii           3740140\n",
              "X                                       order_cancel           3568735\n",
              "P                                              trade           1525363\n",
              "F                         add_order_mpid_attribution           1423908\n",
              "L                        market_participant_position            214865\n",
              "C                          order_executed_with_price            129729\n",
              "Q                                        cross_trade             17775\n",
              "Y  reg_sho_short_sale_price_test_restricted_indic...              9025\n",
              "H                               stock_trading_action              8897\n",
              "R                                    stock_directory              8887\n",
              "S                                       system_event                 6\n",
              "J                                luld_auction_collar                 2\n",
              "V          market_wide_circuit_breaker_decline_level                 1\n",
              "B                                       broken_trade                 1"
            ]
          },
          "metadata": {
            "tags": []
          },
          "execution_count": 27
        }
      ]
    },
    {
      "cell_type": "code",
      "metadata": {
        "id": "a-zOwJo-WEYw"
      },
      "source": [
        "with pd.HDFStore(itch_store) as store:\n",
        "  store.put('summary', counter)"
      ],
      "execution_count": 28,
      "outputs": []
    },
    {
      "cell_type": "markdown",
      "metadata": {
        "id": "Ehfe1UZUWeHE"
      },
      "source": [
        "## Find Most Traded Equities!"
      ]
    },
    {
      "cell_type": "code",
      "metadata": {
        "id": "55TKM8SqWcKW"
      },
      "source": [
        "with pd.HDFStore(itch_store) as store:\n",
        "  stocks = store['R'].loc[:, ['stock_locate', 'stock']]\n",
        "  trades = store['P'].append(store['Q'].rename(columns={'cross_price':'price'}), sort=False).merge(stocks)"
      ],
      "execution_count": 39,
      "outputs": []
    },
    {
      "cell_type": "code",
      "metadata": {
        "id": "N6gXMFWZWjUm"
      },
      "source": [
        "trades['value'] = trades['shares'].mul(trades['price'])\n",
        "trades['value_share'] = trades['value'].div(trades['value'].sum())\n",
        "\n",
        "trade_summary = trades.groupby('stock')['value_share'].sum().sort_values(ascending=False)"
      ],
      "execution_count": 44,
      "outputs": []
    },
    {
      "cell_type": "code",
      "metadata": {
        "colab": {
          "base_uri": "https://localhost:8080/",
          "height": 585
        },
        "id": "pokPlfK-XXO-",
        "outputId": "7b035e95-02f4-4ddd-f07a-e6fdfd5bdd83"
      },
      "source": [
        "trade_summary.iloc[:50,].plot.bar(figsize=(12,8), color='darkblue', title='Portion of Total Traded Value')\n",
        "plt.grid(True, which='major', axis='y')\n",
        "plt.gca().yaxis.set_major_formatter(FuncFormatter(lambda y, _ : '{:.1%}'.format(y)))\n",
        "#sns.despine()\n",
        "plt.tight_layout();"
      ],
      "execution_count": 83,
      "outputs": [
        {
          "output_type": "display_data",
          "data": {
            "image/png": "[encoded data removed]",
            "text/plain": [
              "<Figure size 864x576 with 1 Axes>"
            ]
          },
          "metadata": {
            "tags": [],
            "needs_background": "light"
          }
        }
      ]
    },
    {
      "cell_type": "code",
      "metadata": {
        "id": "apABdrUeaIFF"
      },
      "source": [
        ""
      ],
      "execution_count": null,
      "outputs": []
    }
  ]
}
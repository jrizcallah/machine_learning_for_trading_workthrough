{
  "nbformat": 4,
  "nbformat_minor": 0,
  "metadata": {
    "accelerator": "GPU",
    "colab": {
      "name": "comparing_data_filetypes.ipynb",
      "provenance": [],
      "machine_shape": "hm"
    },
    "kernelspec": {
      "display_name": "Python 3",
      "name": "python3"
    },
    "language_info": {
      "name": "python"
    }
  },
  "cells": [
    {
      "cell_type": "markdown",
      "metadata": {
        "id": "mLMda9rkZ87z"
      },
      "source": [
        "# Comparing Read/Write Speed\n",
        "\n",
        "Data comes in all sorts of filetypes. As data scientists, we will be using some HUGE datasets! Gigabytes, for sure. So...what file types make reading and writing GIGABYTES of data easiest?\n",
        "\n",
        "These are the filetypes we will compare:\n",
        "\n",
        "* **CSV** - Comma Separated Values - probably the most common filetype. Also comes in other, similar varieties, such as TSV (Tab Separated Values).\n",
        "* **JSON** - JavaScript Object Notation - pretty readable by humans, and quite useful for NoSQL databases. It is often used for data interchange over the web.\n",
        "* **XLSX** - Microsoft Excel Open XML Spreadsheet - the standard filetype for Microsoft Excel.\n",
        "* **Feather** - created by Apache Arrow, this is a very fast and light binary columnar filetype (meaning it reads columns first, instead of rows)\n",
        "* **Parquet** - also created by Apache, this columnar filetype is designed for use with the Hadoop system.\n",
        "* **HDF5** - Hierarchical Data Format 5 - this flexible and fast binary filetype is often used for time series data.\n",
        "* **Pickle** - Python-specific filetype. All sorts of things can be pickled.\n",
        "* **Avro** - third format from Apache, second one designed for use with the Hadoop framework. This one stores data in a format similar to JSON, but in compact binary files.\n",
        "\n",
        "All of these except for Avro have simple read and write methods in Pandas. For Avro, we will use the Pandavro package (check it out here: https://github.com/ynqa/pandavro)\n",
        "\n",
        "We will also have two different data *types*...\n",
        "\n",
        "* **Numeric** - 2,000 numeric columns with 100,000 rows each\n",
        "* **Mixed** - 1,000 numeric columns and 1,000 text columns with 100,000 rows\n",
        "\n",
        "## Import"
      ]
    },
    {
      "cell_type": "code",
      "metadata": {
        "colab": {
          "base_uri": "https://localhost:8080/"
        },
        "id": "b6TZt9VAifBL",
        "outputId": "079a78e8-0728-4349-e580-e2375e8e9d3c"
      },
      "source": [
        "!pip install pandavro"
      ],
      "execution_count": 1,
      "outputs": [
        {
          "output_type": "stream",
          "text": [
            "Collecting pandavro\n",
            "  Downloading pandavro-1.6.0.tar.gz (5.9 kB)\n",
            "Collecting fastavro>=0.14.11\n",
            "  Downloading fastavro-1.4.4-cp37-cp37m-manylinux_2_17_x86_64.manylinux2014_x86_64.whl (2.3 MB)\n",
            "\u001b[K     |████████████████████████████████| 2.3 MB 14.5 MB/s \n",
            "\u001b[?25hRequirement already satisfied: numpy>=1.7.0 in /usr/local/lib/python3.7/dist-packages (from pandavro) (1.19.5)\n",
            "Requirement already satisfied: pandas>=1.1.5 in /usr/local/lib/python3.7/dist-packages (from pandavro) (1.1.5)\n",
            "Requirement already satisfied: six>=1.9 in /usr/local/lib/python3.7/dist-packages (from pandavro) (1.15.0)\n",
            "Requirement already satisfied: python-dateutil>=2.7.3 in /usr/local/lib/python3.7/dist-packages (from pandas>=1.1.5->pandavro) (2.8.1)\n",
            "Requirement already satisfied: pytz>=2017.2 in /usr/local/lib/python3.7/dist-packages (from pandas>=1.1.5->pandavro) (2018.9)\n",
            "Building wheels for collected packages: pandavro\n",
            "  Building wheel for pandavro (setup.py) ... \u001b[?25l\u001b[?25hdone\n",
            "  Created wheel for pandavro: filename=pandavro-1.6.0-py3-none-any.whl size=4568 sha256=b2a956d6ce62c66b23a92535d7540a99f857e01f0259728944ad348cd7fba87a\n",
            "  Stored in directory: /root/.cache/pip/wheels/18/fe/cf/b377d382387ec5fdbe2bbe8803990d48e57314dd6465e774aa\n",
            "Successfully built pandavro\n",
            "Installing collected packages: fastavro, pandavro\n",
            "Successfully installed fastavro-1.4.4 pandavro-1.6.0\n"
          ],
          "name": "stdout"
        }
      ]
    },
    {
      "cell_type": "code",
      "metadata": {
        "id": "LAL0jVM6jEy6"
      },
      "source": [
        "import warnings\n",
        "warnings.filterwarnings('ignore')"
      ],
      "execution_count": 2,
      "outputs": []
    },
    {
      "cell_type": "code",
      "metadata": {
        "id": "iYC3K8YdjZKE"
      },
      "source": [
        "from pathlib import Path\n",
        "\n",
        "import pandas as pd\n",
        "import numpy as np\n",
        "import random\n",
        "import string\n",
        "import pandavro\n",
        "\n",
        "import matplotlib.pyplot as plt\n",
        "import seaborn as sns"
      ],
      "execution_count": 3,
      "outputs": []
    },
    {
      "cell_type": "code",
      "metadata": {
        "id": "h_aCbQ5Rj2hP"
      },
      "source": [
        "sns.set_style('whitegrid')"
      ],
      "execution_count": 4,
      "outputs": []
    },
    {
      "cell_type": "markdown",
      "metadata": {
        "id": "4Wh3lYn_joOX"
      },
      "source": [
        "## Generate Data\n",
        "\n",
        "Gotta make the DataFrames to save and load."
      ]
    },
    {
      "cell_type": "code",
      "metadata": {
        "id": "KGB8qZXnjnCH"
      },
      "source": [
        "def generate_data(nrows=100000, numeric_cols=2000, text_cols=0, text_length=10):\n",
        "  \"\"\"\n",
        "  This function generates random data of the indicated size\n",
        "  \"\"\"\n",
        "  synth_string = ''.join([random.choice(string.ascii_letters) for _ in range(text_length)])\n",
        "  synth_data = pd.concat([pd.DataFrame(np.random.random(size=(nrows, numeric_cols))),\n",
        "                          pd.DataFrame(np.full(shape=(nrows, text_cols), fill_value=synth_string))],\n",
        "                         axis = 1, ignore_index=True)\n",
        "  synth_data.columns = [str(i) for i in synth_data.columns]\n",
        "  return synth_data"
      ],
      "execution_count": 5,
      "outputs": []
    },
    {
      "cell_type": "code",
      "metadata": {
        "colab": {
          "base_uri": "https://localhost:8080/"
        },
        "id": "pqpphZEalJRz",
        "outputId": "9dbdd5b0-f4cf-492b-c125-b011bb77efd9"
      },
      "source": [
        "synth_df = generate_data(numeric_cols=1000, text_cols=1000)\n",
        "synth_df.info()"
      ],
      "execution_count": 6,
      "outputs": [
        {
          "output_type": "stream",
          "text": [
            "<class 'pandas.core.frame.DataFrame'>\n",
            "RangeIndex: 100000 entries, 0 to 99999\n",
            "Columns: 2000 entries, 0 to 1999\n",
            "dtypes: float64(1000), object(1000)\n",
            "memory usage: 1.5+ GB\n"
          ],
          "name": "stdout"
        }
      ]
    },
    {
      "cell_type": "code",
      "metadata": {
        "id": "KL2gqzEilk_v"
      },
      "source": [
        "results = {}"
      ],
      "execution_count": 7,
      "outputs": []
    },
    {
      "cell_type": "markdown",
      "metadata": {
        "id": "paBDcLHclmnr"
      },
      "source": [
        "## CSV\n",
        "\n",
        "### Size"
      ]
    },
    {
      "cell_type": "code",
      "metadata": {
        "id": "JmK0UXA1lSb6"
      },
      "source": [
        "csv_file = Path('test.csv')"
      ],
      "execution_count": null,
      "outputs": []
    },
    {
      "cell_type": "code",
      "metadata": {
        "id": "pmvjxtSnlx_1"
      },
      "source": [
        "synth_df.to_csv(csv_file)"
      ],
      "execution_count": null,
      "outputs": []
    },
    {
      "cell_type": "code",
      "metadata": {
        "id": "eqnTHf_yoOPp"
      },
      "source": [
        "size = csv_file.stat().st_size"
      ],
      "execution_count": null,
      "outputs": []
    },
    {
      "cell_type": "markdown",
      "metadata": {
        "id": "Q6bE_xF_mTFx"
      },
      "source": [
        "### Read Time"
      ]
    },
    {
      "cell_type": "code",
      "metadata": {
        "colab": {
          "base_uri": "https://localhost:8080/"
        },
        "id": "Ui2ll5T6mAM0",
        "outputId": "7ccdf536-81f4-4849-9979-5ef89789975e"
      },
      "source": [
        "%%timeit -o\n",
        "df_read = pd.read_csv(csv_file)"
      ],
      "execution_count": null,
      "outputs": [
        {
          "output_type": "stream",
          "text": [
            "1 loop, best of 5: 48.1 s per loop\n"
          ],
          "name": "stdout"
        },
        {
          "output_type": "execute_result",
          "data": {
            "text/plain": [
              "<TimeitResult : 1 loop, best of 5: 48.1 s per loop>"
            ]
          },
          "metadata": {
            "tags": []
          },
          "execution_count": 41
        }
      ]
    },
    {
      "cell_type": "code",
      "metadata": {
        "id": "P5RUq8TDmoSs"
      },
      "source": [
        "read = _"
      ],
      "execution_count": null,
      "outputs": []
    },
    {
      "cell_type": "code",
      "metadata": {
        "id": "Zf0SM5KlmpL2"
      },
      "source": [
        "csv_file.unlink()"
      ],
      "execution_count": null,
      "outputs": []
    },
    {
      "cell_type": "markdown",
      "metadata": {
        "id": "lEnR3M_ZmvRB"
      },
      "source": [
        "### Write Time"
      ]
    },
    {
      "cell_type": "code",
      "metadata": {
        "colab": {
          "base_uri": "https://localhost:8080/"
        },
        "id": "G3YaAwdLmxp9",
        "outputId": "78a180a7-ec3d-465d-8497-df0d72ddbb32"
      },
      "source": [
        "%%timeit -o\n",
        "synth_df.to_csv(csv_file)\n",
        "csv_file.unlink()"
      ],
      "execution_count": null,
      "outputs": [
        {
          "output_type": "stream",
          "text": [
            "1 loop, best of 5: 3min 29s per loop\n"
          ],
          "name": "stdout"
        },
        {
          "output_type": "execute_result",
          "data": {
            "text/plain": [
              "<TimeitResult : 1 loop, best of 5: 3min 29s per loop>"
            ]
          },
          "metadata": {
            "tags": []
          },
          "execution_count": 44
        }
      ]
    },
    {
      "cell_type": "code",
      "metadata": {
        "id": "TbFIsDhunLj4"
      },
      "source": [
        "write = _"
      ],
      "execution_count": null,
      "outputs": []
    },
    {
      "cell_type": "markdown",
      "metadata": {
        "id": "QM842v_KnOLK"
      },
      "source": [
        "#### Keep Results"
      ]
    },
    {
      "cell_type": "code",
      "metadata": {
        "id": "yrs1NZevnMwK"
      },
      "source": [
        "results['csv'] = {'read':np.mean(read.all_runs), 'write':np.mean(write.all_runs), 'size':size}"
      ],
      "execution_count": null,
      "outputs": []
    },
    {
      "cell_type": "markdown",
      "metadata": {
        "id": "9KZrx0TS6_O-"
      },
      "source": [
        "## JSON\n",
        "\n",
        "\n",
        "Colab crashes after using up all of the RAM (30 GB) trying to write the JSON file!!\n",
        "\n",
        "So...let's just say JSON is too expensive."
      ]
    },
    {
      "cell_type": "markdown",
      "metadata": {
        "id": "VgQF_R1b7qt7"
      },
      "source": [
        "## XLSX\n",
        "\n",
        "Colab also crashed trying to write the XLSX file!"
      ]
    },
    {
      "cell_type": "markdown",
      "metadata": {
        "id": "VTb-62WT9o2l"
      },
      "source": [
        "## Feather\n",
        "\n",
        "### Size"
      ]
    },
    {
      "cell_type": "code",
      "metadata": {
        "id": "KDm_hF428G6r"
      },
      "source": [
        "feather_file = Path('test.feather')"
      ],
      "execution_count": null,
      "outputs": []
    },
    {
      "cell_type": "code",
      "metadata": {
        "id": "3iXzBLSZ967u"
      },
      "source": [
        "synth_df.to_feather(feather_file)"
      ],
      "execution_count": null,
      "outputs": []
    },
    {
      "cell_type": "code",
      "metadata": {
        "id": "Nodmq2WM9-qJ"
      },
      "source": [
        "size = feather_file.stat().st_size"
      ],
      "execution_count": null,
      "outputs": []
    },
    {
      "cell_type": "markdown",
      "metadata": {
        "id": "3m7zjCmN-EGa"
      },
      "source": [
        "### Read Time"
      ]
    },
    {
      "cell_type": "code",
      "metadata": {
        "colab": {
          "base_uri": "https://localhost:8080/"
        },
        "id": "rR5h_IJc-CJQ",
        "outputId": "becef7ad-4802-4299-be52-eb34159d6156"
      },
      "source": [
        "%%timeit -o\n",
        "df_read = pd.read_feather(feather_file)"
      ],
      "execution_count": null,
      "outputs": [
        {
          "output_type": "stream",
          "text": [
            "1 loop, best of 5: 2.43 s per loop\n"
          ],
          "name": "stdout"
        },
        {
          "output_type": "execute_result",
          "data": {
            "text/plain": [
              "<TimeitResult : 1 loop, best of 5: 2.43 s per loop>"
            ]
          },
          "metadata": {
            "tags": []
          },
          "execution_count": 54
        }
      ]
    },
    {
      "cell_type": "code",
      "metadata": {
        "id": "9NaAZg4T-RdL"
      },
      "source": [
        "read = _"
      ],
      "execution_count": null,
      "outputs": []
    },
    {
      "cell_type": "code",
      "metadata": {
        "id": "NkDv7C8Y-UN9"
      },
      "source": [
        "feather_file.unlink()"
      ],
      "execution_count": null,
      "outputs": []
    },
    {
      "cell_type": "markdown",
      "metadata": {
        "id": "kJ9qC1ee-Ypq"
      },
      "source": [
        "### Write Time"
      ]
    },
    {
      "cell_type": "code",
      "metadata": {
        "colab": {
          "base_uri": "https://localhost:8080/"
        },
        "id": "f9cRL7mi-Vhk",
        "outputId": "5208a56a-ed0e-4526-dd4c-a237c904ef99"
      },
      "source": [
        "%%timeit -o\n",
        "synth_df.to_feather(feather_file)\n",
        "feather_file.unlink()"
      ],
      "execution_count": null,
      "outputs": [
        {
          "output_type": "stream",
          "text": [
            "1 loop, best of 5: 21.3 s per loop\n"
          ],
          "name": "stdout"
        },
        {
          "output_type": "execute_result",
          "data": {
            "text/plain": [
              "<TimeitResult : 1 loop, best of 5: 21.3 s per loop>"
            ]
          },
          "metadata": {
            "tags": []
          },
          "execution_count": 57
        }
      ]
    },
    {
      "cell_type": "code",
      "metadata": {
        "id": "JaZfAnuI-gCH"
      },
      "source": [
        "write = _"
      ],
      "execution_count": null,
      "outputs": []
    },
    {
      "cell_type": "markdown",
      "metadata": {
        "id": "z6eMZdRT-9tz"
      },
      "source": [
        "### Keep Results"
      ]
    },
    {
      "cell_type": "code",
      "metadata": {
        "id": "BoJ7m7Xv-gkz"
      },
      "source": [
        "results['feather'] = {'read':np.mean(read.all_runs), 'write':np.mean(write.all_runs), 'size':size}"
      ],
      "execution_count": null,
      "outputs": []
    },
    {
      "cell_type": "markdown",
      "metadata": {
        "id": "Y-KQnFRLACNv"
      },
      "source": [
        "## Parquet\n",
        "\n",
        "### Size"
      ]
    },
    {
      "cell_type": "code",
      "metadata": {
        "id": "Ht8ixY1x_C2P"
      },
      "source": [
        "parquet_file = Path('test.parquet')"
      ],
      "execution_count": 15,
      "outputs": []
    },
    {
      "cell_type": "code",
      "metadata": {
        "id": "5jM7b-OCAAuH"
      },
      "source": [
        "synth_df.to_parquet(parquet_file)"
      ],
      "execution_count": 16,
      "outputs": []
    },
    {
      "cell_type": "code",
      "metadata": {
        "id": "ljT53s-tASb7"
      },
      "source": [
        "size = parquet_file.stat().st_size"
      ],
      "execution_count": 17,
      "outputs": []
    },
    {
      "cell_type": "markdown",
      "metadata": {
        "id": "_Z1J-IorAXnu"
      },
      "source": [
        "### Read Time"
      ]
    },
    {
      "cell_type": "code",
      "metadata": {
        "colab": {
          "base_uri": "https://localhost:8080/"
        },
        "id": "n8B8AxdpAXGd",
        "outputId": "11c15571-8e6a-4bb6-e5d4-29bd1c34474b"
      },
      "source": [
        "%%timeit -o\n",
        "df_read = pd.read_parquet(parquet_file)"
      ],
      "execution_count": 18,
      "outputs": [
        {
          "output_type": "stream",
          "text": [
            "1 loop, best of 5: 4.87 s per loop\n"
          ],
          "name": "stdout"
        },
        {
          "output_type": "execute_result",
          "data": {
            "text/plain": [
              "<TimeitResult : 1 loop, best of 5: 4.87 s per loop>"
            ]
          },
          "metadata": {
            "tags": []
          },
          "execution_count": 18
        }
      ]
    },
    {
      "cell_type": "code",
      "metadata": {
        "id": "iMJTSx3gAneg"
      },
      "source": [
        "read = _"
      ],
      "execution_count": 19,
      "outputs": []
    },
    {
      "cell_type": "code",
      "metadata": {
        "id": "gj0BOYnrAoLn"
      },
      "source": [
        "parquet_file.unlink()"
      ],
      "execution_count": 20,
      "outputs": []
    },
    {
      "cell_type": "markdown",
      "metadata": {
        "id": "T5r9dibQAryB"
      },
      "source": [
        "### Write Time"
      ]
    },
    {
      "cell_type": "code",
      "metadata": {
        "id": "LkPP_tXgApVG",
        "colab": {
          "base_uri": "https://localhost:8080/"
        },
        "outputId": "4ebdd298-83fb-43ab-df4b-59c0b7a6f1f3"
      },
      "source": [
        "%%timeit -o\n",
        "synth_df.to_parquet(parquet_file)\n",
        "parquet_file.unlink()"
      ],
      "execution_count": 21,
      "outputs": [
        {
          "output_type": "stream",
          "text": [
            "1 loop, best of 5: 24.6 s per loop\n"
          ],
          "name": "stdout"
        },
        {
          "output_type": "execute_result",
          "data": {
            "text/plain": [
              "<TimeitResult : 1 loop, best of 5: 24.6 s per loop>"
            ]
          },
          "metadata": {
            "tags": []
          },
          "execution_count": 21
        }
      ]
    },
    {
      "cell_type": "code",
      "metadata": {
        "id": "XDkqOlpAGpXo"
      },
      "source": [
        "write = _"
      ],
      "execution_count": 22,
      "outputs": []
    },
    {
      "cell_type": "markdown",
      "metadata": {
        "id": "Ooc_0N7pGrtw"
      },
      "source": [
        "### Keep Results"
      ]
    },
    {
      "cell_type": "code",
      "metadata": {
        "id": "jx_8PSpyGsno"
      },
      "source": [
        "results['parquet'] = {'read':np.mean(read.all_runs), 'write':np.mean(write.all_runs), 'size':size}"
      ],
      "execution_count": 23,
      "outputs": []
    },
    {
      "cell_type": "markdown",
      "metadata": {
        "id": "-gvQl-_LGyim"
      },
      "source": [
        "## HDF5\n",
        "\n",
        "HDF5 files can store DataFrames in table format, where multiple DataFrames can be stored in a single file and you can actually read in only the table you want, or Fixed Format, in which the data becomes immutable and must be read in as a whole. We will test both.\n",
        "\n",
        "## Table Format\n",
        "\n",
        "### Size"
      ]
    },
    {
      "cell_type": "code",
      "metadata": {
        "id": "Fl8N9Ko7J0Vb"
      },
      "source": [
        "hdf_file = Path('test.h5')"
      ],
      "execution_count": null,
      "outputs": []
    },
    {
      "cell_type": "code",
      "metadata": {
        "id": "G4HSLyvKKPW3"
      },
      "source": [
        "synth_df.to_hdf(hdf_file, \"table\", format=\"table\")"
      ],
      "execution_count": null,
      "outputs": []
    },
    {
      "cell_type": "code",
      "metadata": {
        "id": "nBzeKzxkKbyA"
      },
      "source": [
        "size = hdf_file.stat().st_size"
      ],
      "execution_count": null,
      "outputs": []
    },
    {
      "cell_type": "markdown",
      "metadata": {
        "id": "bafQwJYFLSNr"
      },
      "source": [
        "### Read Time"
      ]
    },
    {
      "cell_type": "code",
      "metadata": {
        "id": "Q8l0YLAuLQvg"
      },
      "source": [
        "%%timeit -o\n",
        "df_read = pd.read_hdf(hdf_file, \"table\")"
      ],
      "execution_count": null,
      "outputs": []
    },
    {
      "cell_type": "code",
      "metadata": {
        "id": "GL2sSILwLRCn"
      },
      "source": [
        "read = _"
      ],
      "execution_count": null,
      "outputs": []
    },
    {
      "cell_type": "code",
      "metadata": {
        "id": "d4MwTmo_L5VF"
      },
      "source": [
        "hdf_file.unlink()"
      ],
      "execution_count": null,
      "outputs": []
    },
    {
      "cell_type": "markdown",
      "metadata": {
        "id": "-eKVUx4wL884"
      },
      "source": [
        "### Write Time"
      ]
    },
    {
      "cell_type": "code",
      "metadata": {
        "id": "67Jxc7WhL8S6"
      },
      "source": [
        "%%timeit -o\n",
        "synth_df.to_hdf(hdf_file, 'table', format='table')\n",
        "hdf_file.unlink()"
      ],
      "execution_count": null,
      "outputs": []
    },
    {
      "cell_type": "code",
      "metadata": {
        "id": "ycklNiipMF5a"
      },
      "source": [
        "write = _"
      ],
      "execution_count": null,
      "outputs": []
    },
    {
      "cell_type": "markdown",
      "metadata": {
        "id": "EaqSl1H9MI4j"
      },
      "source": [
        "### Keep Results"
      ]
    },
    {
      "cell_type": "code",
      "metadata": {
        "id": "YpqYHRBJMGeI"
      },
      "source": [
        "results['hdf_table'] = {'read':np.mean(read.all_runs), 'write':np.mean(write.all_runs), 'size':size}"
      ],
      "execution_count": null,
      "outputs": []
    },
    {
      "cell_type": "markdown",
      "metadata": {
        "id": "byeWJxEyMRlq"
      },
      "source": [
        "## Fixed Format\n",
        "\n",
        "### Size"
      ]
    },
    {
      "cell_type": "code",
      "metadata": {
        "id": "_cdyUh3tMQ_l"
      },
      "source": [
        "synth_df.to_hdf(hdf_file, 'table', format='fixed')\n",
        "size = hdf_file.stat().st_size"
      ],
      "execution_count": null,
      "outputs": []
    },
    {
      "cell_type": "markdown",
      "metadata": {
        "id": "Dw0vZYEHNBPD"
      },
      "source": [
        "### Read Time"
      ]
    },
    {
      "cell_type": "code",
      "metadata": {
        "colab": {
          "base_uri": "https://localhost:8080/",
          "height": 393
        },
        "id": "BYAZHfWmM-oL",
        "outputId": "62288168-39f5-4f21-f303-3bc7c82118e2"
      },
      "source": [
        "%%timeit -o\n",
        "hdf_df = pd.read_hdf(hdf_file, 'table')"
      ],
      "execution_count": null,
      "outputs": [
        {
          "output_type": "error",
          "ename": "ValueError",
          "evalue": "ignored",
          "traceback": [
            "\u001b[0;31m---------------------------------------------------------------------------\u001b[0m",
            "\u001b[0;31mValueError\u001b[0m                                Traceback (most recent call last)",
            "\u001b[0;32m<ipython-input-16-8fe589ced730>\u001b[0m in \u001b[0;36m<module>\u001b[0;34m()\u001b[0m\n\u001b[0;32m----> 1\u001b[0;31m \u001b[0mget_ipython\u001b[0m\u001b[0;34m(\u001b[0m\u001b[0;34m)\u001b[0m\u001b[0;34m.\u001b[0m\u001b[0mrun_cell_magic\u001b[0m\u001b[0;34m(\u001b[0m\u001b[0;34m'timeit'\u001b[0m\u001b[0;34m,\u001b[0m \u001b[0;34m'-o'\u001b[0m\u001b[0;34m,\u001b[0m \u001b[0;34m\"hdf_df = pd.read_hdf(hdf_file, 'table')\"\u001b[0m\u001b[0;34m)\u001b[0m\u001b[0;34m\u001b[0m\u001b[0;34m\u001b[0m\u001b[0m\n\u001b[0m",
            "\u001b[0;32m/usr/local/lib/python3.7/dist-packages/IPython/core/interactiveshell.py\u001b[0m in \u001b[0;36mrun_cell_magic\u001b[0;34m(self, magic_name, line, cell)\u001b[0m\n\u001b[1;32m   2115\u001b[0m             \u001b[0mmagic_arg_s\u001b[0m \u001b[0;34m=\u001b[0m \u001b[0mself\u001b[0m\u001b[0;34m.\u001b[0m\u001b[0mvar_expand\u001b[0m\u001b[0;34m(\u001b[0m\u001b[0mline\u001b[0m\u001b[0;34m,\u001b[0m \u001b[0mstack_depth\u001b[0m\u001b[0;34m)\u001b[0m\u001b[0;34m\u001b[0m\u001b[0;34m\u001b[0m\u001b[0m\n\u001b[1;32m   2116\u001b[0m             \u001b[0;32mwith\u001b[0m \u001b[0mself\u001b[0m\u001b[0;34m.\u001b[0m\u001b[0mbuiltin_trap\u001b[0m\u001b[0;34m:\u001b[0m\u001b[0;34m\u001b[0m\u001b[0;34m\u001b[0m\u001b[0m\n\u001b[0;32m-> 2117\u001b[0;31m                 \u001b[0mresult\u001b[0m \u001b[0;34m=\u001b[0m \u001b[0mfn\u001b[0m\u001b[0;34m(\u001b[0m\u001b[0mmagic_arg_s\u001b[0m\u001b[0;34m,\u001b[0m \u001b[0mcell\u001b[0m\u001b[0;34m)\u001b[0m\u001b[0;34m\u001b[0m\u001b[0;34m\u001b[0m\u001b[0m\n\u001b[0m\u001b[1;32m   2118\u001b[0m             \u001b[0;32mreturn\u001b[0m \u001b[0mresult\u001b[0m\u001b[0;34m\u001b[0m\u001b[0;34m\u001b[0m\u001b[0m\n\u001b[1;32m   2119\u001b[0m \u001b[0;34m\u001b[0m\u001b[0m\n",
            "\u001b[0;32m<decorator-gen-52>\u001b[0m in \u001b[0;36mtimeit\u001b[0;34m(self, line, cell)\u001b[0m\n",
            "\u001b[0;32m/usr/local/lib/python3.7/dist-packages/IPython/core/magic.py\u001b[0m in \u001b[0;36m<lambda>\u001b[0;34m(f, *a, **k)\u001b[0m\n\u001b[1;32m    186\u001b[0m     \u001b[0;31m# but it's overkill for just that one bit of state.\u001b[0m\u001b[0;34m\u001b[0m\u001b[0;34m\u001b[0m\u001b[0;34m\u001b[0m\u001b[0m\n\u001b[1;32m    187\u001b[0m     \u001b[0;32mdef\u001b[0m \u001b[0mmagic_deco\u001b[0m\u001b[0;34m(\u001b[0m\u001b[0marg\u001b[0m\u001b[0;34m)\u001b[0m\u001b[0;34m:\u001b[0m\u001b[0;34m\u001b[0m\u001b[0;34m\u001b[0m\u001b[0m\n\u001b[0;32m--> 188\u001b[0;31m         \u001b[0mcall\u001b[0m \u001b[0;34m=\u001b[0m \u001b[0;32mlambda\u001b[0m \u001b[0mf\u001b[0m\u001b[0;34m,\u001b[0m \u001b[0;34m*\u001b[0m\u001b[0ma\u001b[0m\u001b[0;34m,\u001b[0m \u001b[0;34m**\u001b[0m\u001b[0mk\u001b[0m\u001b[0;34m:\u001b[0m \u001b[0mf\u001b[0m\u001b[0;34m(\u001b[0m\u001b[0;34m*\u001b[0m\u001b[0ma\u001b[0m\u001b[0;34m,\u001b[0m \u001b[0;34m**\u001b[0m\u001b[0mk\u001b[0m\u001b[0;34m)\u001b[0m\u001b[0;34m\u001b[0m\u001b[0;34m\u001b[0m\u001b[0m\n\u001b[0m\u001b[1;32m    189\u001b[0m \u001b[0;34m\u001b[0m\u001b[0m\n\u001b[1;32m    190\u001b[0m         \u001b[0;32mif\u001b[0m \u001b[0mcallable\u001b[0m\u001b[0;34m(\u001b[0m\u001b[0marg\u001b[0m\u001b[0;34m)\u001b[0m\u001b[0;34m:\u001b[0m\u001b[0;34m\u001b[0m\u001b[0;34m\u001b[0m\u001b[0m\n",
            "\u001b[0;32m/usr/local/lib/python3.7/dist-packages/IPython/core/magics/execution.py\u001b[0m in \u001b[0;36mtimeit\u001b[0;34m(self, line, cell)\u001b[0m\n\u001b[1;32m   1055\u001b[0m             \u001b[0mnumber\u001b[0m \u001b[0;34m=\u001b[0m \u001b[0;36m1\u001b[0m\u001b[0;34m\u001b[0m\u001b[0;34m\u001b[0m\u001b[0m\n\u001b[1;32m   1056\u001b[0m             \u001b[0;32mfor\u001b[0m \u001b[0m_\u001b[0m \u001b[0;32min\u001b[0m \u001b[0mrange\u001b[0m\u001b[0;34m(\u001b[0m\u001b[0;36m1\u001b[0m\u001b[0;34m,\u001b[0m \u001b[0;36m10\u001b[0m\u001b[0;34m)\u001b[0m\u001b[0;34m:\u001b[0m\u001b[0;34m\u001b[0m\u001b[0;34m\u001b[0m\u001b[0m\n\u001b[0;32m-> 1057\u001b[0;31m                 \u001b[0mtime_number\u001b[0m \u001b[0;34m=\u001b[0m \u001b[0mtimer\u001b[0m\u001b[0;34m.\u001b[0m\u001b[0mtimeit\u001b[0m\u001b[0;34m(\u001b[0m\u001b[0mnumber\u001b[0m\u001b[0;34m)\u001b[0m\u001b[0;34m\u001b[0m\u001b[0;34m\u001b[0m\u001b[0m\n\u001b[0m\u001b[1;32m   1058\u001b[0m                 \u001b[0mworst_tuning\u001b[0m \u001b[0;34m=\u001b[0m \u001b[0mmax\u001b[0m\u001b[0;34m(\u001b[0m\u001b[0mworst_tuning\u001b[0m\u001b[0;34m,\u001b[0m \u001b[0mtime_number\u001b[0m \u001b[0;34m/\u001b[0m \u001b[0mnumber\u001b[0m\u001b[0;34m)\u001b[0m\u001b[0;34m\u001b[0m\u001b[0;34m\u001b[0m\u001b[0m\n\u001b[1;32m   1059\u001b[0m                 \u001b[0;32mif\u001b[0m \u001b[0mtime_number\u001b[0m \u001b[0;34m>=\u001b[0m \u001b[0;36m0.2\u001b[0m\u001b[0;34m:\u001b[0m\u001b[0;34m\u001b[0m\u001b[0;34m\u001b[0m\u001b[0m\n",
            "\u001b[0;32m/usr/local/lib/python3.7/dist-packages/IPython/core/magics/execution.py\u001b[0m in \u001b[0;36mtimeit\u001b[0;34m(self, number)\u001b[0m\n\u001b[1;32m    137\u001b[0m         \u001b[0mgc\u001b[0m\u001b[0;34m.\u001b[0m\u001b[0mdisable\u001b[0m\u001b[0;34m(\u001b[0m\u001b[0;34m)\u001b[0m\u001b[0;34m\u001b[0m\u001b[0;34m\u001b[0m\u001b[0m\n\u001b[1;32m    138\u001b[0m         \u001b[0;32mtry\u001b[0m\u001b[0;34m:\u001b[0m\u001b[0;34m\u001b[0m\u001b[0;34m\u001b[0m\u001b[0m\n\u001b[0;32m--> 139\u001b[0;31m             \u001b[0mtiming\u001b[0m \u001b[0;34m=\u001b[0m \u001b[0mself\u001b[0m\u001b[0;34m.\u001b[0m\u001b[0minner\u001b[0m\u001b[0;34m(\u001b[0m\u001b[0mit\u001b[0m\u001b[0;34m,\u001b[0m \u001b[0mself\u001b[0m\u001b[0;34m.\u001b[0m\u001b[0mtimer\u001b[0m\u001b[0;34m)\u001b[0m\u001b[0;34m\u001b[0m\u001b[0;34m\u001b[0m\u001b[0m\n\u001b[0m\u001b[1;32m    140\u001b[0m         \u001b[0;32mfinally\u001b[0m\u001b[0;34m:\u001b[0m\u001b[0;34m\u001b[0m\u001b[0;34m\u001b[0m\u001b[0m\n\u001b[1;32m    141\u001b[0m             \u001b[0;32mif\u001b[0m \u001b[0mgcold\u001b[0m\u001b[0;34m:\u001b[0m\u001b[0;34m\u001b[0m\u001b[0;34m\u001b[0m\u001b[0m\n",
            "\u001b[0;32m<magic-timeit>\u001b[0m in \u001b[0;36minner\u001b[0;34m(_it, _timer)\u001b[0m\n",
            "\u001b[0;32m/usr/local/lib/python3.7/dist-packages/pandas/io/pytables.py\u001b[0m in \u001b[0;36mread_hdf\u001b[0;34m(path_or_buf, key, mode, errors, where, start, stop, columns, iterator, chunksize, **kwargs)\u001b[0m\n\u001b[1;32m    421\u001b[0m             \u001b[0miterator\u001b[0m\u001b[0;34m=\u001b[0m\u001b[0miterator\u001b[0m\u001b[0;34m,\u001b[0m\u001b[0;34m\u001b[0m\u001b[0;34m\u001b[0m\u001b[0m\n\u001b[1;32m    422\u001b[0m             \u001b[0mchunksize\u001b[0m\u001b[0;34m=\u001b[0m\u001b[0mchunksize\u001b[0m\u001b[0;34m,\u001b[0m\u001b[0;34m\u001b[0m\u001b[0;34m\u001b[0m\u001b[0m\n\u001b[0;32m--> 423\u001b[0;31m             \u001b[0mauto_close\u001b[0m\u001b[0;34m=\u001b[0m\u001b[0mauto_close\u001b[0m\u001b[0;34m,\u001b[0m\u001b[0;34m\u001b[0m\u001b[0;34m\u001b[0m\u001b[0m\n\u001b[0m\u001b[1;32m    424\u001b[0m         )\n\u001b[1;32m    425\u001b[0m     \u001b[0;32mexcept\u001b[0m \u001b[0;34m(\u001b[0m\u001b[0mValueError\u001b[0m\u001b[0;34m,\u001b[0m \u001b[0mTypeError\u001b[0m\u001b[0;34m,\u001b[0m \u001b[0mKeyError\u001b[0m\u001b[0;34m)\u001b[0m\u001b[0;34m:\u001b[0m\u001b[0;34m\u001b[0m\u001b[0;34m\u001b[0m\u001b[0m\n",
            "\u001b[0;32m/usr/local/lib/python3.7/dist-packages/pandas/io/pytables.py\u001b[0m in \u001b[0;36mselect\u001b[0;34m(self, key, where, start, stop, columns, iterator, chunksize, auto_close)\u001b[0m\n\u001b[1;32m    865\u001b[0m         )\n\u001b[1;32m    866\u001b[0m \u001b[0;34m\u001b[0m\u001b[0m\n\u001b[0;32m--> 867\u001b[0;31m         \u001b[0;32mreturn\u001b[0m \u001b[0mit\u001b[0m\u001b[0;34m.\u001b[0m\u001b[0mget_result\u001b[0m\u001b[0;34m(\u001b[0m\u001b[0;34m)\u001b[0m\u001b[0;34m\u001b[0m\u001b[0;34m\u001b[0m\u001b[0m\n\u001b[0m\u001b[1;32m    868\u001b[0m \u001b[0;34m\u001b[0m\u001b[0m\n\u001b[1;32m    869\u001b[0m     def select_as_coordinates(\n",
            "\u001b[0;32m/usr/local/lib/python3.7/dist-packages/pandas/io/pytables.py\u001b[0m in \u001b[0;36mget_result\u001b[0;34m(self, coordinates)\u001b[0m\n\u001b[1;32m   1919\u001b[0m \u001b[0;34m\u001b[0m\u001b[0m\n\u001b[1;32m   1920\u001b[0m         \u001b[0;31m# directly return the result\u001b[0m\u001b[0;34m\u001b[0m\u001b[0;34m\u001b[0m\u001b[0;34m\u001b[0m\u001b[0m\n\u001b[0;32m-> 1921\u001b[0;31m         \u001b[0mresults\u001b[0m \u001b[0;34m=\u001b[0m \u001b[0mself\u001b[0m\u001b[0;34m.\u001b[0m\u001b[0mfunc\u001b[0m\u001b[0;34m(\u001b[0m\u001b[0mself\u001b[0m\u001b[0;34m.\u001b[0m\u001b[0mstart\u001b[0m\u001b[0;34m,\u001b[0m \u001b[0mself\u001b[0m\u001b[0;34m.\u001b[0m\u001b[0mstop\u001b[0m\u001b[0;34m,\u001b[0m \u001b[0mwhere\u001b[0m\u001b[0;34m)\u001b[0m\u001b[0;34m\u001b[0m\u001b[0;34m\u001b[0m\u001b[0m\n\u001b[0m\u001b[1;32m   1922\u001b[0m         \u001b[0mself\u001b[0m\u001b[0;34m.\u001b[0m\u001b[0mclose\u001b[0m\u001b[0;34m(\u001b[0m\u001b[0;34m)\u001b[0m\u001b[0;34m\u001b[0m\u001b[0;34m\u001b[0m\u001b[0m\n\u001b[1;32m   1923\u001b[0m         \u001b[0;32mreturn\u001b[0m \u001b[0mresults\u001b[0m\u001b[0;34m\u001b[0m\u001b[0;34m\u001b[0m\u001b[0m\n",
            "\u001b[0;32m/usr/local/lib/python3.7/dist-packages/pandas/io/pytables.py\u001b[0m in \u001b[0;36mfunc\u001b[0;34m(_start, _stop, _where)\u001b[0m\n\u001b[1;32m    849\u001b[0m         \u001b[0;31m# function to call on iteration\u001b[0m\u001b[0;34m\u001b[0m\u001b[0;34m\u001b[0m\u001b[0;34m\u001b[0m\u001b[0m\n\u001b[1;32m    850\u001b[0m         \u001b[0;32mdef\u001b[0m \u001b[0mfunc\u001b[0m\u001b[0;34m(\u001b[0m\u001b[0m_start\u001b[0m\u001b[0;34m,\u001b[0m \u001b[0m_stop\u001b[0m\u001b[0;34m,\u001b[0m \u001b[0m_where\u001b[0m\u001b[0;34m)\u001b[0m\u001b[0;34m:\u001b[0m\u001b[0;34m\u001b[0m\u001b[0;34m\u001b[0m\u001b[0m\n\u001b[0;32m--> 851\u001b[0;31m             \u001b[0;32mreturn\u001b[0m \u001b[0ms\u001b[0m\u001b[0;34m.\u001b[0m\u001b[0mread\u001b[0m\u001b[0;34m(\u001b[0m\u001b[0mstart\u001b[0m\u001b[0;34m=\u001b[0m\u001b[0m_start\u001b[0m\u001b[0;34m,\u001b[0m \u001b[0mstop\u001b[0m\u001b[0;34m=\u001b[0m\u001b[0m_stop\u001b[0m\u001b[0;34m,\u001b[0m \u001b[0mwhere\u001b[0m\u001b[0;34m=\u001b[0m\u001b[0m_where\u001b[0m\u001b[0;34m,\u001b[0m \u001b[0mcolumns\u001b[0m\u001b[0;34m=\u001b[0m\u001b[0mcolumns\u001b[0m\u001b[0;34m)\u001b[0m\u001b[0;34m\u001b[0m\u001b[0;34m\u001b[0m\u001b[0m\n\u001b[0m\u001b[1;32m    852\u001b[0m \u001b[0;34m\u001b[0m\u001b[0m\n\u001b[1;32m    853\u001b[0m         \u001b[0;31m# create the iterator\u001b[0m\u001b[0;34m\u001b[0m\u001b[0;34m\u001b[0m\u001b[0;34m\u001b[0m\u001b[0m\n",
            "\u001b[0;32m/usr/local/lib/python3.7/dist-packages/pandas/io/pytables.py\u001b[0m in \u001b[0;36mread\u001b[0;34m(self, where, columns, start, stop)\u001b[0m\n\u001b[1;32m   3159\u001b[0m \u001b[0;34m\u001b[0m\u001b[0m\n\u001b[1;32m   3160\u001b[0m             \u001b[0mblk_items\u001b[0m \u001b[0;34m=\u001b[0m \u001b[0mself\u001b[0m\u001b[0;34m.\u001b[0m\u001b[0mread_index\u001b[0m\u001b[0;34m(\u001b[0m\u001b[0;34mf\"block{i}_items\"\u001b[0m\u001b[0;34m)\u001b[0m\u001b[0;34m\u001b[0m\u001b[0;34m\u001b[0m\u001b[0m\n\u001b[0;32m-> 3161\u001b[0;31m             \u001b[0mvalues\u001b[0m \u001b[0;34m=\u001b[0m \u001b[0mself\u001b[0m\u001b[0;34m.\u001b[0m\u001b[0mread_array\u001b[0m\u001b[0;34m(\u001b[0m\u001b[0;34mf\"block{i}_values\"\u001b[0m\u001b[0;34m,\u001b[0m \u001b[0mstart\u001b[0m\u001b[0;34m=\u001b[0m\u001b[0m_start\u001b[0m\u001b[0;34m,\u001b[0m \u001b[0mstop\u001b[0m\u001b[0;34m=\u001b[0m\u001b[0m_stop\u001b[0m\u001b[0;34m)\u001b[0m\u001b[0;34m\u001b[0m\u001b[0;34m\u001b[0m\u001b[0m\n\u001b[0m\u001b[1;32m   3162\u001b[0m \u001b[0;34m\u001b[0m\u001b[0m\n\u001b[1;32m   3163\u001b[0m             \u001b[0mcolumns\u001b[0m \u001b[0;34m=\u001b[0m \u001b[0mitems\u001b[0m\u001b[0;34m[\u001b[0m\u001b[0mitems\u001b[0m\u001b[0;34m.\u001b[0m\u001b[0mget_indexer\u001b[0m\u001b[0;34m(\u001b[0m\u001b[0mblk_items\u001b[0m\u001b[0;34m)\u001b[0m\u001b[0;34m]\u001b[0m\u001b[0;34m\u001b[0m\u001b[0;34m\u001b[0m\u001b[0m\n",
            "\u001b[0;32m/usr/local/lib/python3.7/dist-packages/pandas/io/pytables.py\u001b[0m in \u001b[0;36mread_array\u001b[0;34m(self, key, start, stop)\u001b[0m\n\u001b[1;32m   2816\u001b[0m \u001b[0;34m\u001b[0m\u001b[0m\n\u001b[1;32m   2817\u001b[0m         \u001b[0;32mif\u001b[0m \u001b[0misinstance\u001b[0m\u001b[0;34m(\u001b[0m\u001b[0mnode\u001b[0m\u001b[0;34m,\u001b[0m \u001b[0mtables\u001b[0m\u001b[0;34m.\u001b[0m\u001b[0mVLArray\u001b[0m\u001b[0;34m)\u001b[0m\u001b[0;34m:\u001b[0m\u001b[0;34m\u001b[0m\u001b[0;34m\u001b[0m\u001b[0m\n\u001b[0;32m-> 2818\u001b[0;31m             \u001b[0mret\u001b[0m \u001b[0;34m=\u001b[0m \u001b[0mnode\u001b[0m\u001b[0;34m[\u001b[0m\u001b[0;36m0\u001b[0m\u001b[0;34m]\u001b[0m\u001b[0;34m[\u001b[0m\u001b[0mstart\u001b[0m\u001b[0;34m:\u001b[0m\u001b[0mstop\u001b[0m\u001b[0;34m]\u001b[0m\u001b[0;34m\u001b[0m\u001b[0;34m\u001b[0m\u001b[0m\n\u001b[0m\u001b[1;32m   2819\u001b[0m         \u001b[0;32melse\u001b[0m\u001b[0;34m:\u001b[0m\u001b[0;34m\u001b[0m\u001b[0;34m\u001b[0m\u001b[0m\n\u001b[1;32m   2820\u001b[0m             \u001b[0mdtype\u001b[0m \u001b[0;34m=\u001b[0m \u001b[0m_ensure_decoded\u001b[0m\u001b[0;34m(\u001b[0m\u001b[0mgetattr\u001b[0m\u001b[0;34m(\u001b[0m\u001b[0mattrs\u001b[0m\u001b[0;34m,\u001b[0m \u001b[0;34m\"value_type\"\u001b[0m\u001b[0;34m,\u001b[0m \u001b[0;32mNone\u001b[0m\u001b[0;34m)\u001b[0m\u001b[0;34m)\u001b[0m\u001b[0;34m\u001b[0m\u001b[0;34m\u001b[0m\u001b[0m\n",
            "\u001b[0;32m/usr/local/lib/python3.7/dist-packages/tables/vlarray.py\u001b[0m in \u001b[0;36m__getitem__\u001b[0;34m(self, key)\u001b[0m\n\u001b[1;32m    679\u001b[0m                 \u001b[0mkey\u001b[0m \u001b[0;34m+=\u001b[0m \u001b[0mself\u001b[0m\u001b[0;34m.\u001b[0m\u001b[0mnrows\u001b[0m\u001b[0;34m\u001b[0m\u001b[0;34m\u001b[0m\u001b[0m\n\u001b[1;32m    680\u001b[0m             \u001b[0;34m(\u001b[0m\u001b[0mstart\u001b[0m\u001b[0;34m,\u001b[0m \u001b[0mstop\u001b[0m\u001b[0;34m,\u001b[0m \u001b[0mstep\u001b[0m\u001b[0;34m)\u001b[0m \u001b[0;34m=\u001b[0m \u001b[0mself\u001b[0m\u001b[0;34m.\u001b[0m\u001b[0m_process_range\u001b[0m\u001b[0;34m(\u001b[0m\u001b[0mkey\u001b[0m\u001b[0;34m,\u001b[0m \u001b[0mkey\u001b[0m \u001b[0;34m+\u001b[0m \u001b[0;36m1\u001b[0m\u001b[0;34m,\u001b[0m \u001b[0;36m1\u001b[0m\u001b[0;34m)\u001b[0m\u001b[0;34m\u001b[0m\u001b[0;34m\u001b[0m\u001b[0m\n\u001b[0;32m--> 681\u001b[0;31m             \u001b[0;32mreturn\u001b[0m \u001b[0mself\u001b[0m\u001b[0;34m.\u001b[0m\u001b[0mread\u001b[0m\u001b[0;34m(\u001b[0m\u001b[0mstart\u001b[0m\u001b[0;34m,\u001b[0m \u001b[0mstop\u001b[0m\u001b[0;34m,\u001b[0m \u001b[0mstep\u001b[0m\u001b[0;34m)\u001b[0m\u001b[0;34m[\u001b[0m\u001b[0;36m0\u001b[0m\u001b[0;34m]\u001b[0m\u001b[0;34m\u001b[0m\u001b[0;34m\u001b[0m\u001b[0m\n\u001b[0m\u001b[1;32m    682\u001b[0m         \u001b[0;32melif\u001b[0m \u001b[0misinstance\u001b[0m\u001b[0;34m(\u001b[0m\u001b[0mkey\u001b[0m\u001b[0;34m,\u001b[0m \u001b[0mslice\u001b[0m\u001b[0;34m)\u001b[0m\u001b[0;34m:\u001b[0m\u001b[0;34m\u001b[0m\u001b[0;34m\u001b[0m\u001b[0m\n\u001b[1;32m    683\u001b[0m             start, stop, step = self._process_range(\n",
            "\u001b[0;32m/usr/local/lib/python3.7/dist-packages/tables/vlarray.py\u001b[0m in \u001b[0;36mread\u001b[0;34m(self, start, stop, step)\u001b[0m\n\u001b[1;32m    819\u001b[0m             \u001b[0mlistarr\u001b[0m \u001b[0;34m=\u001b[0m \u001b[0;34m[\u001b[0m\u001b[0;34m]\u001b[0m\u001b[0;34m\u001b[0m\u001b[0;34m\u001b[0m\u001b[0m\n\u001b[1;32m    820\u001b[0m         \u001b[0;32melse\u001b[0m\u001b[0;34m:\u001b[0m\u001b[0;34m\u001b[0m\u001b[0;34m\u001b[0m\u001b[0m\n\u001b[0;32m--> 821\u001b[0;31m             \u001b[0mlistarr\u001b[0m \u001b[0;34m=\u001b[0m \u001b[0mself\u001b[0m\u001b[0;34m.\u001b[0m\u001b[0m_read_array\u001b[0m\u001b[0;34m(\u001b[0m\u001b[0mstart\u001b[0m\u001b[0;34m,\u001b[0m \u001b[0mstop\u001b[0m\u001b[0;34m,\u001b[0m \u001b[0mstep\u001b[0m\u001b[0;34m)\u001b[0m\u001b[0;34m\u001b[0m\u001b[0;34m\u001b[0m\u001b[0m\n\u001b[0m\u001b[1;32m    822\u001b[0m \u001b[0;34m\u001b[0m\u001b[0m\n\u001b[1;32m    823\u001b[0m         \u001b[0matom\u001b[0m \u001b[0;34m=\u001b[0m \u001b[0mself\u001b[0m\u001b[0;34m.\u001b[0m\u001b[0matom\u001b[0m\u001b[0;34m\u001b[0m\u001b[0;34m\u001b[0m\u001b[0m\n",
            "\u001b[0;32mtables/hdf5extension.pyx\u001b[0m in \u001b[0;36mtables.hdf5extension.VLArray._read_array\u001b[0;34m()\u001b[0m\n",
            "\u001b[0;31mValueError\u001b[0m: cannot set WRITEABLE flag to True of this array"
          ]
        }
      ]
    },
    {
      "cell_type": "code",
      "metadata": {
        "id": "1HXesSuEM_DF"
      },
      "source": [
        "read = _"
      ],
      "execution_count": null,
      "outputs": []
    },
    {
      "cell_type": "code",
      "metadata": {
        "id": "XVzJTDguNX1-"
      },
      "source": [
        "hdf_file.unlink()"
      ],
      "execution_count": null,
      "outputs": []
    },
    {
      "cell_type": "markdown",
      "metadata": {
        "id": "66MAk8tjNadm"
      },
      "source": [
        "### Write Time"
      ]
    },
    {
      "cell_type": "code",
      "metadata": {
        "id": "LwmeWTnUNZqa"
      },
      "source": [
        "%%timeit -o\n",
        "with pd.HDFStore(hdf_file) as store:\n",
        "  store.put('file', synth_df)\n",
        "hdf_file.unlink()"
      ],
      "execution_count": null,
      "outputs": []
    },
    {
      "cell_type": "code",
      "metadata": {
        "id": "tvt3XpT-Nklw"
      },
      "source": [
        "write = _"
      ],
      "execution_count": null,
      "outputs": []
    },
    {
      "cell_type": "markdown",
      "metadata": {
        "id": "XGnfWLcxNmQv"
      },
      "source": [
        "### Keep Results"
      ]
    },
    {
      "cell_type": "code",
      "metadata": {
        "id": "qwrlxHI-NlJ5"
      },
      "source": [
        "results['hdf_fixed'] = {'read':np.mean(read.all_runs), 'write':np.mean(write.all_runs), 'size':size}"
      ],
      "execution_count": null,
      "outputs": []
    },
    {
      "cell_type": "markdown",
      "metadata": {
        "id": "caiIsjQkOFly"
      },
      "source": [
        "## Pickle\n",
        "\n",
        "### Size"
      ]
    },
    {
      "cell_type": "code",
      "metadata": {
        "id": "caIxydmZNyeo"
      },
      "source": [
        "pickle_file = Path('test.pickle')"
      ],
      "execution_count": null,
      "outputs": []
    },
    {
      "cell_type": "code",
      "metadata": {
        "id": "08Idh8GZOSlL"
      },
      "source": [
        "synth_df.to_pickle(pickle_file)\n",
        "size = pickle_file.stat().st_size"
      ],
      "execution_count": null,
      "outputs": []
    },
    {
      "cell_type": "markdown",
      "metadata": {
        "id": "tzY0EPBvQP28"
      },
      "source": [
        "### Read Time"
      ]
    },
    {
      "cell_type": "code",
      "metadata": {
        "colab": {
          "base_uri": "https://localhost:8080/"
        },
        "id": "SdeW4RrKQOyo",
        "outputId": "82780402-a91b-4e3d-ae64-cd6ccb932920"
      },
      "source": [
        "%%timeit -o\n",
        "df_read = pd.read_pickle(pickle_file)"
      ],
      "execution_count": null,
      "outputs": [
        {
          "output_type": "stream",
          "text": [
            "1 loop, best of 5: 24.3 s per loop\n"
          ],
          "name": "stdout"
        },
        {
          "output_type": "execute_result",
          "data": {
            "text/plain": [
              "<TimeitResult : 1 loop, best of 5: 24.3 s per loop>"
            ]
          },
          "metadata": {
            "tags": []
          },
          "execution_count": 20
        }
      ]
    },
    {
      "cell_type": "code",
      "metadata": {
        "id": "5dlzjc4MPNcS"
      },
      "source": [
        "read = _"
      ],
      "execution_count": null,
      "outputs": []
    },
    {
      "cell_type": "code",
      "metadata": {
        "id": "IB1g9517Qc2f"
      },
      "source": [
        "pickle_file.unlink()"
      ],
      "execution_count": null,
      "outputs": []
    },
    {
      "cell_type": "markdown",
      "metadata": {
        "id": "kQbjo8eJQfie"
      },
      "source": [
        "### Write Time"
      ]
    },
    {
      "cell_type": "code",
      "metadata": {
        "colab": {
          "base_uri": "https://localhost:8080/"
        },
        "id": "1MYKzUAAQeaM",
        "outputId": "1616d4bb-8996-497e-b215-029accbafead"
      },
      "source": [
        "%%timeit -o\n",
        "synth_df.to_pickle(pickle_file)\n",
        "pickle_file.unlink()"
      ],
      "execution_count": null,
      "outputs": [
        {
          "output_type": "stream",
          "text": [
            "1 loop, best of 5: 1min 17s per loop\n"
          ],
          "name": "stdout"
        },
        {
          "output_type": "execute_result",
          "data": {
            "text/plain": [
              "<TimeitResult : 1 loop, best of 5: 1min 17s per loop>"
            ]
          },
          "metadata": {
            "tags": []
          },
          "execution_count": 23
        }
      ]
    },
    {
      "cell_type": "code",
      "metadata": {
        "id": "ovB9wlm7QnyR"
      },
      "source": [
        "write = _"
      ],
      "execution_count": null,
      "outputs": []
    },
    {
      "cell_type": "markdown",
      "metadata": {
        "id": "GU0W4nt_Qr5d"
      },
      "source": [
        "### Keep Results"
      ]
    },
    {
      "cell_type": "code",
      "metadata": {
        "id": "4panSZDGQoZh"
      },
      "source": [
        "results['pickle'] = {'read':np.mean(read.all_runs), 'write':np.mean(write.all_runs), 'size':size}"
      ],
      "execution_count": null,
      "outputs": []
    },
    {
      "cell_type": "markdown",
      "metadata": {
        "id": "c3Uy1rfmQ60n"
      },
      "source": [
        "## Avro\n",
        "\n",
        "Avro crashed the session by using too much RAM!"
      ]
    },
    {
      "cell_type": "code",
      "metadata": {
        "id": "j3tc6K7_S06u",
        "colab": {
          "base_uri": "https://localhost:8080/"
        },
        "outputId": "05b4cb46-2d88-4569-da38-1c022093b308"
      },
      "source": [
        "results"
      ],
      "execution_count": 24,
      "outputs": [
        {
          "output_type": "execute_result",
          "data": {
            "text/plain": [
              "{'csv': {'read': 49.266218090200155,\n",
              "  'size': 3027582216.0,\n",
              "  'write': 213.1501547094},\n",
              " 'feather': {'read': 2.5164044364002622,\n",
              "  'size': 1205214418.0,\n",
              "  'write': 22.267469402799907},\n",
              " 'parquet': {'read': 5.0409640728,\n",
              "  'size': 1013993442,\n",
              "  'write': 25.167232936999994},\n",
              " 'pickle': {'read': 26.765841926400018,\n",
              "  'size': 2100401603.0,\n",
              "  'write': 82.2104976757997}}"
            ]
          },
          "metadata": {
            "tags": []
          },
          "execution_count": 24
        }
      ]
    },
    {
      "cell_type": "code",
      "metadata": {
        "id": "nhrfa_ctT3ne"
      },
      "source": [
        "results_file = Path('results_mixed.csv')"
      ],
      "execution_count": 25,
      "outputs": []
    },
    {
      "cell_type": "code",
      "metadata": {
        "id": "o-7ZR13ZT7w_"
      },
      "source": [
        "pd.DataFrame(results).to_csv(results_file)"
      ],
      "execution_count": 26,
      "outputs": []
    },
    {
      "cell_type": "code",
      "metadata": {
        "id": "mY1nIfGj_NbH"
      },
      "source": [
        "### if it closes everything and we need to reload the results\n",
        "results = pd.read_csv(results_file, index_col=0).to_dict()"
      ],
      "execution_count": 27,
      "outputs": []
    },
    {
      "cell_type": "code",
      "metadata": {
        "id": "xAVECvXf_y4X",
        "colab": {
          "base_uri": "https://localhost:8080/"
        },
        "outputId": "8daff980-ec1f-4c6d-d472-c5d3b9790554"
      },
      "source": [
        "results"
      ],
      "execution_count": 28,
      "outputs": [
        {
          "output_type": "execute_result",
          "data": {
            "text/plain": [
              "{'csv': {'read': 49.266218090200155,\n",
              "  'size': 3027582216.0,\n",
              "  'write': 213.1501547094},\n",
              " 'feather': {'read': 2.5164044364002622,\n",
              "  'size': 1205214418.0,\n",
              "  'write': 22.267469402799907},\n",
              " 'parquet': {'read': 5.0409640728,\n",
              "  'size': 1013993442.0,\n",
              "  'write': 25.167232936999998},\n",
              " 'pickle': {'read': 26.765841926400018,\n",
              "  'size': 2100401603.0,\n",
              "  'write': 82.2104976757997}}"
            ]
          },
          "metadata": {
            "tags": []
          },
          "execution_count": 28
        }
      ]
    },
    {
      "cell_type": "code",
      "metadata": {
        "id": "WnqF59qnl_Fb"
      },
      "source": [
        "from google.colab import files"
      ],
      "execution_count": 29,
      "outputs": []
    },
    {
      "cell_type": "code",
      "metadata": {
        "colab": {
          "base_uri": "https://localhost:8080/",
          "height": 17
        },
        "id": "QR4zcZklmPru",
        "outputId": "c8fe341d-c7d7-45f3-ef89-27fdece93ef1"
      },
      "source": [
        "files.download(results_file)"
      ],
      "execution_count": 30,
      "outputs": [
        {
          "output_type": "display_data",
          "data": {
            "application/javascript": [
              "\n",
              "    async function download(id, filename, size) {\n",
              "      if (!google.colab.kernel.accessAllowed) {\n",
              "        return;\n",
              "      }\n",
              "      const div = document.createElement('div');\n",
              "      const label = document.createElement('label');\n",
              "      label.textContent = `Downloading \"${filename}\": `;\n",
              "      div.appendChild(label);\n",
              "      const progress = document.createElement('progress');\n",
              "      progress.max = size;\n",
              "      div.appendChild(progress);\n",
              "      document.body.appendChild(div);\n",
              "\n",
              "      const buffers = [];\n",
              "      let downloaded = 0;\n",
              "\n",
              "      const channel = await google.colab.kernel.comms.open(id);\n",
              "      // Send a message to notify the kernel that we're ready.\n",
              "      channel.send({})\n",
              "\n",
              "      for await (const message of channel.messages) {\n",
              "        // Send a message to notify the kernel that we're ready.\n",
              "        channel.send({})\n",
              "        if (message.buffers) {\n",
              "          for (const buffer of message.buffers) {\n",
              "            buffers.push(buffer);\n",
              "            downloaded += buffer.byteLength;\n",
              "            progress.value = downloaded;\n",
              "          }\n",
              "        }\n",
              "      }\n",
              "      const blob = new Blob(buffers, {type: 'application/binary'});\n",
              "      const a = document.createElement('a');\n",
              "      a.href = window.URL.createObjectURL(blob);\n",
              "      a.download = filename;\n",
              "      div.appendChild(a);\n",
              "      a.click();\n",
              "      div.remove();\n",
              "    }\n",
              "  "
            ],
            "text/plain": [
              "<IPython.core.display.Javascript object>"
            ]
          },
          "metadata": {
            "tags": []
          }
        },
        {
          "output_type": "display_data",
          "data": {
            "application/javascript": [
              "download(\"download_c1f732a6-b3ad-4f2b-9fe8-dc74b0bcdb02\", \"results_mixed.csv\", 236)"
            ],
            "text/plain": [
              "<IPython.core.display.Javascript object>"
            ]
          },
          "metadata": {
            "tags": []
          }
        }
      ]
    },
    {
      "cell_type": "markdown",
      "metadata": {
        "id": "-cnlse_zlOfX"
      },
      "source": [
        "### Load Results (if necessary)"
      ]
    },
    {
      "cell_type": "code",
      "metadata": {
        "colab": {
          "base_uri": "https://localhost:8080/",
          "height": 138
        },
        "id": "LOlv2E5xmSOC",
        "outputId": "21da972b-4e81-4135-b8de-816bdb80f082"
      },
      "source": [
        "results_numeric = pd.read_csv('results_numeric.csv', index_col=0)\n",
        "results_numeric.loc['size', :] = results_numeric.loc['size', :] / 1e9\n",
        "results_numeric"
      ],
      "execution_count": 31,
      "outputs": [
        {
          "output_type": "execute_result",
          "data": {
            "text/html": [
              "<div>\n",
              "<style scoped>\n",
              "    .dataframe tbody tr th:only-of-type {\n",
              "        vertical-align: middle;\n",
              "    }\n",
              "\n",
              "    .dataframe tbody tr th {\n",
              "        vertical-align: top;\n",
              "    }\n",
              "\n",
              "    .dataframe thead th {\n",
              "        text-align: right;\n",
              "    }\n",
              "</style>\n",
              "<table border=\"1\" class=\"dataframe\">\n",
              "  <thead>\n",
              "    <tr style=\"text-align: right;\">\n",
              "      <th></th>\n",
              "      <th>csv</th>\n",
              "      <th>feather</th>\n",
              "      <th>parquet</th>\n",
              "      <th>hdf_table</th>\n",
              "      <th>hdf_fixed</th>\n",
              "      <th>pickle</th>\n",
              "    </tr>\n",
              "  </thead>\n",
              "  <tbody>\n",
              "    <tr>\n",
              "      <th>read</th>\n",
              "      <td>54.428201</td>\n",
              "      <td>2.560309</td>\n",
              "      <td>14.539652</td>\n",
              "      <td>0.727625</td>\n",
              "      <td>7.420287</td>\n",
              "      <td>1.094970</td>\n",
              "    </tr>\n",
              "    <tr>\n",
              "      <th>write</th>\n",
              "      <td>396.220200</td>\n",
              "      <td>26.284724</td>\n",
              "      <td>32.060317</td>\n",
              "      <td>25.980893</td>\n",
              "      <td>26.578757</td>\n",
              "      <td>25.968841</td>\n",
              "    </tr>\n",
              "    <tr>\n",
              "      <th>size</th>\n",
              "      <td>3.854579</td>\n",
              "      <td>1.601000</td>\n",
              "      <td>2.026791</td>\n",
              "      <td>1.601034</td>\n",
              "      <td>1.600821</td>\n",
              "      <td>1.600023</td>\n",
              "    </tr>\n",
              "  </tbody>\n",
              "</table>\n",
              "</div>"
            ],
            "text/plain": [
              "              csv    feather    parquet  hdf_table  hdf_fixed     pickle\n",
              "read    54.428201   2.560309  14.539652   0.727625   7.420287   1.094970\n",
              "write  396.220200  26.284724  32.060317  25.980893  26.578757  25.968841\n",
              "size     3.854579   1.601000   2.026791   1.601034   1.600821   1.600023"
            ]
          },
          "metadata": {
            "tags": []
          },
          "execution_count": 31
        }
      ]
    },
    {
      "cell_type": "code",
      "metadata": {
        "id": "6yloTZyQpCTw",
        "colab": {
          "base_uri": "https://localhost:8080/",
          "height": 138
        },
        "outputId": "1497c53c-9bab-4a9f-c7d3-e06fc217f543"
      },
      "source": [
        "results_mixed = pd.read_csv('results_mixed.csv', index_col=0)\n",
        "results_mixed.loc['size', :] = results_mixed.loc['size', :] / 1e9\n",
        "results_mixed"
      ],
      "execution_count": 32,
      "outputs": [
        {
          "output_type": "execute_result",
          "data": {
            "text/html": [
              "<div>\n",
              "<style scoped>\n",
              "    .dataframe tbody tr th:only-of-type {\n",
              "        vertical-align: middle;\n",
              "    }\n",
              "\n",
              "    .dataframe tbody tr th {\n",
              "        vertical-align: top;\n",
              "    }\n",
              "\n",
              "    .dataframe thead th {\n",
              "        text-align: right;\n",
              "    }\n",
              "</style>\n",
              "<table border=\"1\" class=\"dataframe\">\n",
              "  <thead>\n",
              "    <tr style=\"text-align: right;\">\n",
              "      <th></th>\n",
              "      <th>pickle</th>\n",
              "      <th>csv</th>\n",
              "      <th>feather</th>\n",
              "      <th>parquet</th>\n",
              "    </tr>\n",
              "  </thead>\n",
              "  <tbody>\n",
              "    <tr>\n",
              "      <th>read</th>\n",
              "      <td>26.765842</td>\n",
              "      <td>49.266218</td>\n",
              "      <td>2.516404</td>\n",
              "      <td>5.040964</td>\n",
              "    </tr>\n",
              "    <tr>\n",
              "      <th>size</th>\n",
              "      <td>2.100402</td>\n",
              "      <td>3.027582</td>\n",
              "      <td>1.205214</td>\n",
              "      <td>1.013993</td>\n",
              "    </tr>\n",
              "    <tr>\n",
              "      <th>write</th>\n",
              "      <td>82.210498</td>\n",
              "      <td>213.150155</td>\n",
              "      <td>22.267469</td>\n",
              "      <td>25.167233</td>\n",
              "    </tr>\n",
              "  </tbody>\n",
              "</table>\n",
              "</div>"
            ],
            "text/plain": [
              "          pickle         csv    feather    parquet\n",
              "read   26.765842   49.266218   2.516404   5.040964\n",
              "size    2.100402    3.027582   1.205214   1.013993\n",
              "write  82.210498  213.150155  22.267469  25.167233"
            ]
          },
          "metadata": {
            "tags": []
          },
          "execution_count": 32
        }
      ]
    },
    {
      "cell_type": "code",
      "metadata": {
        "colab": {
          "base_uri": "https://localhost:8080/",
          "height": 230
        },
        "id": "tbaDFyW9CHWJ",
        "outputId": "0ffc45af-6c3d-4b97-e21a-b9699565904f"
      },
      "source": [
        "outcomes = pd.concat([results_mixed, results_numeric])\n",
        "outcomes['data_type'] = ['mixed' if (i<3) else 'numeric' for i in range(len(outcomes))]\n",
        "outcomes"
      ],
      "execution_count": 89,
      "outputs": [
        {
          "output_type": "execute_result",
          "data": {
            "text/html": [
              "<div>\n",
              "<style scoped>\n",
              "    .dataframe tbody tr th:only-of-type {\n",
              "        vertical-align: middle;\n",
              "    }\n",
              "\n",
              "    .dataframe tbody tr th {\n",
              "        vertical-align: top;\n",
              "    }\n",
              "\n",
              "    .dataframe thead th {\n",
              "        text-align: right;\n",
              "    }\n",
              "</style>\n",
              "<table border=\"1\" class=\"dataframe\">\n",
              "  <thead>\n",
              "    <tr style=\"text-align: right;\">\n",
              "      <th></th>\n",
              "      <th>pickle</th>\n",
              "      <th>csv</th>\n",
              "      <th>feather</th>\n",
              "      <th>parquet</th>\n",
              "      <th>hdf_table</th>\n",
              "      <th>hdf_fixed</th>\n",
              "      <th>data_type</th>\n",
              "    </tr>\n",
              "  </thead>\n",
              "  <tbody>\n",
              "    <tr>\n",
              "      <th>read</th>\n",
              "      <td>26.765842</td>\n",
              "      <td>49.266218</td>\n",
              "      <td>2.516404</td>\n",
              "      <td>5.040964</td>\n",
              "      <td>NaN</td>\n",
              "      <td>NaN</td>\n",
              "      <td>mixed</td>\n",
              "    </tr>\n",
              "    <tr>\n",
              "      <th>size</th>\n",
              "      <td>2.100402</td>\n",
              "      <td>3.027582</td>\n",
              "      <td>1.205214</td>\n",
              "      <td>1.013993</td>\n",
              "      <td>NaN</td>\n",
              "      <td>NaN</td>\n",
              "      <td>mixed</td>\n",
              "    </tr>\n",
              "    <tr>\n",
              "      <th>write</th>\n",
              "      <td>82.210498</td>\n",
              "      <td>213.150155</td>\n",
              "      <td>22.267469</td>\n",
              "      <td>25.167233</td>\n",
              "      <td>NaN</td>\n",
              "      <td>NaN</td>\n",
              "      <td>mixed</td>\n",
              "    </tr>\n",
              "    <tr>\n",
              "      <th>read</th>\n",
              "      <td>1.094970</td>\n",
              "      <td>54.428201</td>\n",
              "      <td>2.560309</td>\n",
              "      <td>14.539652</td>\n",
              "      <td>0.727625</td>\n",
              "      <td>7.420287</td>\n",
              "      <td>numeric</td>\n",
              "    </tr>\n",
              "    <tr>\n",
              "      <th>write</th>\n",
              "      <td>25.968841</td>\n",
              "      <td>396.220200</td>\n",
              "      <td>26.284724</td>\n",
              "      <td>32.060317</td>\n",
              "      <td>25.980893</td>\n",
              "      <td>26.578757</td>\n",
              "      <td>numeric</td>\n",
              "    </tr>\n",
              "    <tr>\n",
              "      <th>size</th>\n",
              "      <td>1.600023</td>\n",
              "      <td>3.854579</td>\n",
              "      <td>1.601000</td>\n",
              "      <td>2.026791</td>\n",
              "      <td>1.601034</td>\n",
              "      <td>1.600821</td>\n",
              "      <td>numeric</td>\n",
              "    </tr>\n",
              "  </tbody>\n",
              "</table>\n",
              "</div>"
            ],
            "text/plain": [
              "          pickle         csv    feather  ...  hdf_table  hdf_fixed  data_type\n",
              "read   26.765842   49.266218   2.516404  ...        NaN        NaN      mixed\n",
              "size    2.100402    3.027582   1.205214  ...        NaN        NaN      mixed\n",
              "write  82.210498  213.150155  22.267469  ...        NaN        NaN      mixed\n",
              "read    1.094970   54.428201   2.560309  ...   0.727625   7.420287    numeric\n",
              "write  25.968841  396.220200  26.284724  ...  25.980893  26.578757    numeric\n",
              "size    1.600023    3.854579   1.601000  ...   1.601034   1.600821    numeric\n",
              "\n",
              "[6 rows x 7 columns]"
            ]
          },
          "metadata": {
            "tags": []
          },
          "execution_count": 89
        }
      ]
    },
    {
      "cell_type": "code",
      "metadata": {
        "colab": {
          "base_uri": "https://localhost:8080/",
          "height": 200
        },
        "id": "ZK95SAz2GAyA",
        "outputId": "be27f418-a3af-4fce-ecfd-c1bcb4f979ce"
      },
      "source": [
        "outcomes['id'] = outcomes.index\n",
        "plot_df = outcomes.melt(id_vars=['data_type', 'id'])\n",
        "plot_df.head()"
      ],
      "execution_count": 90,
      "outputs": [
        {
          "output_type": "execute_result",
          "data": {
            "text/html": [
              "<div>\n",
              "<style scoped>\n",
              "    .dataframe tbody tr th:only-of-type {\n",
              "        vertical-align: middle;\n",
              "    }\n",
              "\n",
              "    .dataframe tbody tr th {\n",
              "        vertical-align: top;\n",
              "    }\n",
              "\n",
              "    .dataframe thead th {\n",
              "        text-align: right;\n",
              "    }\n",
              "</style>\n",
              "<table border=\"1\" class=\"dataframe\">\n",
              "  <thead>\n",
              "    <tr style=\"text-align: right;\">\n",
              "      <th></th>\n",
              "      <th>data_type</th>\n",
              "      <th>id</th>\n",
              "      <th>variable</th>\n",
              "      <th>value</th>\n",
              "    </tr>\n",
              "  </thead>\n",
              "  <tbody>\n",
              "    <tr>\n",
              "      <th>0</th>\n",
              "      <td>mixed</td>\n",
              "      <td>read</td>\n",
              "      <td>pickle</td>\n",
              "      <td>26.765842</td>\n",
              "    </tr>\n",
              "    <tr>\n",
              "      <th>1</th>\n",
              "      <td>mixed</td>\n",
              "      <td>size</td>\n",
              "      <td>pickle</td>\n",
              "      <td>2.100402</td>\n",
              "    </tr>\n",
              "    <tr>\n",
              "      <th>2</th>\n",
              "      <td>mixed</td>\n",
              "      <td>write</td>\n",
              "      <td>pickle</td>\n",
              "      <td>82.210498</td>\n",
              "    </tr>\n",
              "    <tr>\n",
              "      <th>3</th>\n",
              "      <td>numeric</td>\n",
              "      <td>read</td>\n",
              "      <td>pickle</td>\n",
              "      <td>1.094970</td>\n",
              "    </tr>\n",
              "    <tr>\n",
              "      <th>4</th>\n",
              "      <td>numeric</td>\n",
              "      <td>write</td>\n",
              "      <td>pickle</td>\n",
              "      <td>25.968841</td>\n",
              "    </tr>\n",
              "  </tbody>\n",
              "</table>\n",
              "</div>"
            ],
            "text/plain": [
              "  data_type     id variable      value\n",
              "0     mixed   read   pickle  26.765842\n",
              "1     mixed   size   pickle   2.100402\n",
              "2     mixed  write   pickle  82.210498\n",
              "3   numeric   read   pickle   1.094970\n",
              "4   numeric  write   pickle  25.968841"
            ]
          },
          "metadata": {
            "tags": []
          },
          "execution_count": 90
        }
      ]
    },
    {
      "cell_type": "code",
      "metadata": {
        "colab": {
          "base_uri": "https://localhost:8080/",
          "height": 352
        },
        "id": "xVVI5k36lTdq",
        "outputId": "9fdf80bd-1c3d-448a-f778-1c9b956a4d20"
      },
      "source": [
        "fig, axes = plt.subplots(ncols=3, figsize=(16,5))\n",
        "for i, operation in enumerate(['read', 'write', 'size']):\n",
        "  rw_tf = operation in ['read', 'write']\n",
        "  sns.barplot(data=plot_df[plot_df['id'] == operation], x='value', y='variable', hue='data_type', ax=axes[i])\n",
        "  axes[i].set_title(operation)\n",
        "  if rw_tf:\n",
        "    axes[i].set_xscale('log')\n",
        "    axes[i].set_xlabel('seconds (log scale)')\n",
        "    axes[i].legend([])\n",
        "  else:\n",
        "    axes[i].set_xlabel('GB')\n",
        "\n",
        "fig.savefig('comparison.png', dpi=300)"
      ],
      "execution_count": 91,
      "outputs": [
        {
          "output_type": "display_data",
          "data": {
            "image/png": "[encoded data removed]",
            "text/plain": [
              "<Figure size 1152x360 with 3 Axes>"
            ]
          },
          "metadata": {
            "tags": []
          }
        }
      ]
    },
    {
      "cell_type": "code",
      "metadata": {
        "id": "uV0ShEH0FBru"
      },
      "source": [
        ""
      ],
      "execution_count": null,
      "outputs": []
    }
  ]
}
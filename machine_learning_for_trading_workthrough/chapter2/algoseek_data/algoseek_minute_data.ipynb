{
  "nbformat": 4,
  "nbformat_minor": 0,
  "metadata": {
    "colab": {
      "name": "algoseek_minute_data",
      "provenance": [],
      "collapsed_sections": []
    },
    "kernelspec": {
      "name": "python3",
      "display_name": "Python 3"
    },
    "language_info": {
      "name": "python"
    }
  },
  "cells": [
    {
      "cell_type": "markdown",
      "metadata": {
        "id": "x0nAVbaPgZr9"
      },
      "source": [
        "# Getting minute-level data from Algoseek!\n",
        "\n",
        "In this notebook, we are going to load a sample of minute-level data from Algoseek.\n"
      ]
    },
    {
      "cell_type": "code",
      "metadata": {
        "id": "TgOb6lZ9ge3G"
      },
      "source": [
        "# turn off warnings so they don't annoy us too much\n",
        "import warnings\n",
        "warnings.filterwarnings('ignore')"
      ],
      "execution_count": 1,
      "outputs": []
    },
    {
      "cell_type": "code",
      "metadata": {
        "id": "swZ2F4qNgjY6"
      },
      "source": [
        "# get some auxiliary functions\n",
        "from pathlib import Path\n",
        "from tqdm import tqdm\n",
        "# used to download the data while saving ONLY the extracted file\n",
        "from zipfile import ZipFile\n",
        "from urllib.request import urlopen\n",
        "from io import BytesIO\n",
        "\n",
        "\n",
        "# load libraries for in-Python data management\n",
        "import numpy as np\n",
        "import pandas as pd\n",
        "\n",
        "# load libraries for graphs!\n",
        "import matplotlib.pyplot as plt\n",
        "import seaborn as sns"
      ],
      "execution_count": 25,
      "outputs": []
    },
    {
      "cell_type": "code",
      "metadata": {
        "id": "y2ps501ihHJI"
      },
      "source": [
        "# create object to help with multi-Index slicing\n",
        "idx = pd.IndexSlice"
      ],
      "execution_count": 3,
      "outputs": []
    },
    {
      "cell_type": "markdown",
      "metadata": {
        "id": "wknNd74UiAK4"
      },
      "source": [
        "## Preparing the Data\n",
        "\n",
        "Before working with the data, we really should be familiar with the form that data takes. Check the documentation here:\n",
        "\n",
        "https://us-equity-market-data-docs.s3.amazonaws.com/algoseek.US.Equity.TAQ.Minute.Bars.pdf"
      ]
    },
    {
      "cell_type": "code",
      "metadata": {
        "id": "EGkaFyGohS4q"
      },
      "source": [
        "# these are all time info\n",
        "time_cols = ['openbartime',\n",
        "              'firsttradetime',\n",
        "              'highbidtime',\n",
        "              'highasktime',\n",
        "              'hightradetime',\n",
        "              'lowbidtime',\n",
        "              'lowasktime',\n",
        "              'lowtradetime',\n",
        "              'closebartime',\n",
        "              'lasttradetime']"
      ],
      "execution_count": 51,
      "outputs": []
    },
    {
      "cell_type": "code",
      "metadata": {
        "id": "Ybh669D1j_Sk"
      },
      "source": [
        "# we don't want these\n",
        "drop_cols = ['unknowntickvolume',\n",
        "             'cancelsize',\n",
        "             'tradeatcrossorlocked']"
      ],
      "execution_count": 5,
      "outputs": []
    },
    {
      "cell_type": "code",
      "metadata": {
        "id": "ZMFOoTZUkLzR"
      },
      "source": [
        "# we will need these\n",
        "keep_cols = ['firsttradeprice',\n",
        "             'hightradeprice',\n",
        "             'lowtradeprice',\n",
        "             'lasttradeprice',\n",
        "             'minspread',\n",
        "             'maxspread',\n",
        "             'volumeweightprice',\n",
        "             'nbboquotecount',\n",
        "             'tradeatbid',\n",
        "             'tradeatmidbid',\n",
        "             'tradeatmid',\n",
        "             'tradeatmidask',\n",
        "             'tradeatask',\n",
        "             'volume',\n",
        "             'totaltrades',\n",
        "             'finravolume',\n",
        "             'finravolumeweightprice',\n",
        "             'uptickvolume',\n",
        "             'downtickvolume',\n",
        "             'repeatuptickvolume',\n",
        "             'repeatdowntickvolume',\n",
        "             'tradetomidvolweight',\n",
        "             'tradetomidvolweightrelative']"
      ],
      "execution_count": 6,
      "outputs": []
    },
    {
      "cell_type": "markdown",
      "metadata": {
        "id": "22ugK3gLlAuR"
      },
      "source": [
        "Some of those column names are long and cumbersome. We will ease our burden by renaming them."
      ]
    },
    {
      "cell_type": "code",
      "metadata": {
        "id": "rU8UVqqTlGz1"
      },
      "source": [
        "column_change = {'volumeweightprice':'price',\n",
        "                 'finravolume':'fvolume',\n",
        "                 'finravolumeweightprice':'fprice',\n",
        "                 'uptickvolume':'up',\n",
        "                 'downtickvolume':'down',\n",
        "                 'repeatuptickvolume':'rup',\n",
        "                 'repeatdowntickvolume':'rdown',\n",
        "                 'firsttradeprice':'first',\n",
        "                 'hightradeprice':'high',\n",
        "                 'lowtradeprice':'low',\n",
        "                 'lasttradeprice':'last',\n",
        "                 'nbboquotecount':'nbbo',\n",
        "                 'totaltrades':'ntrades',\n",
        "                 'openbidprice':'obprice',\n",
        "                 'openbidsize':'obsize',\n",
        "                 'openaskprice':'oaprice',\n",
        "                 'openasksize':'oasize',\n",
        "                 'highbidprice':'hbprice',\n",
        "                 'highbidsize':'hbsize',\n",
        "                 'highaskprice':'haprice',\n",
        "                 'highasksize':'hasize',\n",
        "                 'lowbidprice':'lbprice',\n",
        "                 'lowbidsize':'lbsize',\n",
        "                 'lowaskprice':'laprice',\n",
        "                 'lowasksize':'lasize',\n",
        "                 'closebidprice':'cbprice',\n",
        "                 'closebidsize':'cbsize',\n",
        "                 'closeaskprice':'caprice',\n",
        "                 'closeasksize':'casize',\n",
        "                 'firsttradesize':'firstsize',\n",
        "                 'hightradesize':'highsize',\n",
        "                 'lowtradesize':'lowsize',\n",
        "                 'lasttradesize':'lastsize',\n",
        "                 'tradetomidvolweight':'volweight',\n",
        "                 'tradetomidvolweightrelative':'volweightrel'}"
      ],
      "execution_count": 7,
      "outputs": []
    },
    {
      "cell_type": "markdown",
      "metadata": {
        "id": "wTvQzOsIntvR"
      },
      "source": [
        "## Getting the data!\n",
        "\n",
        "Now we are going to get the data. It is pretty large for a personal computer, so take it easy. I use colab and generally don't run into any problems."
      ]
    },
    {
      "cell_type": "code",
      "metadata": {
        "id": "vKbW_pclk-SY"
      },
      "source": [
        "nasdaq_path = Path('../../data/nasdaq100')"
      ],
      "execution_count": 23,
      "outputs": []
    },
    {
      "cell_type": "code",
      "metadata": {
        "id": "eyTfZmGXsZoZ"
      },
      "source": [
        "# download the data. It is pretty big. Might take a minute.\n",
        "zip_url = 'https://algoseek-public.s3.amazonaws.com/nasdaq100-1min.zip'\n",
        "with urlopen(zip_url) as zipresp:\n",
        "  with ZipFile(BytesIO(zipresp.read())) as zfile:\n",
        "    zfile.extractall(nasdaq_path)"
      ],
      "execution_count": 26,
      "outputs": []
    },
    {
      "cell_type": "code",
      "metadata": {
        "id": "7GXUH4qcn9dJ"
      },
      "source": [
        "def extract_and_combine_data():\n",
        "  \"\"\" Downloads the algoseek data, combines all the files \"\"\"\n",
        "\n",
        "  # set the filepath\n",
        "  path = nasdaq_path / 'nasdaq100'\n",
        "  if not path.exists():\n",
        "    path.mkdir(parents=True)\n",
        "\n",
        "  data = []\n",
        "  # this next part processes a LOT of files!!\n",
        "  for f in tqdm(list(path.glob('*/**/*.csv.gz'))):\n",
        "    # get temp DataFrame and format it\n",
        "    temp = pd.read_csv(f, parse_dates=[['Date', 'TimeBarStart']]).rename(columns=str.lower).drop(time_cols+drop_cols, axis=1).rename(columns=column_change).set_index('date_timebarstart').sort_index()\n",
        "    temp = temp.between_time('9:30', '16:00').set_index('ticker', append=True).swaplevel().rename(columns = lambda x: x.replace('tradeat', 'at'))\n",
        "    # append it to the data list\n",
        "    data.append(temp)\n",
        "\n",
        "  # turn the list into a big DataFrame, with a more manageable index\n",
        "  data = pd.concat(data).apply(pd.to_numeric, downcast='integer')\n",
        "  data.index.rename(['ticker', 'date_time'], inplace=True)\n",
        "\n",
        "  # check to make sure it is doing what we hoped\n",
        "  print(data.info(show_counts=True))\n",
        "\n",
        "  # save it as a speedy little HDF5 file\n",
        "  data.to_hdf(nasdaq_path / 'algoseek.h5', '1min_taq')"
      ],
      "execution_count": 54,
      "outputs": []
    },
    {
      "cell_type": "code",
      "metadata": {
        "colab": {
          "base_uri": "https://localhost:8080/",
          "height": 523
        },
        "id": "6pP1mvs6q-cu",
        "outputId": "7f17e94d-188b-44d9-c6b6-a1e8fe97f483"
      },
      "source": [
        "# now we can run that data loading function\n",
        "extract_and_combine_data()"
      ],
      "execution_count": 55,
      "outputs": [
        {
          "output_type": "stream",
          "text": [
            "  2%|▏         | 1743/80194 [01:21<1:01:59, 21.09it/s]"
          ],
          "name": "stderr"
        },
        {
          "output_type": "error",
          "ename": "KeyboardInterrupt",
          "evalue": "ignored",
          "traceback": [
            "\u001b[0;31m---------------------------------------------------------------------------\u001b[0m",
            "\u001b[0;31mKeyboardInterrupt\u001b[0m                         Traceback (most recent call last)",
            "\u001b[0;32m<ipython-input-55-761301816bea>\u001b[0m in \u001b[0;36m<module>\u001b[0;34m()\u001b[0m\n\u001b[1;32m      1\u001b[0m \u001b[0;31m# now we can run that data loading function\u001b[0m\u001b[0;34m\u001b[0m\u001b[0;34m\u001b[0m\u001b[0;34m\u001b[0m\u001b[0m\n\u001b[0;32m----> 2\u001b[0;31m \u001b[0mextract_and_combine_data\u001b[0m\u001b[0;34m(\u001b[0m\u001b[0;34m)\u001b[0m\u001b[0;34m\u001b[0m\u001b[0;34m\u001b[0m\u001b[0m\n\u001b[0m",
            "\u001b[0;32m<ipython-input-54-d3e2c7637036>\u001b[0m in \u001b[0;36mextract_and_combine_data\u001b[0;34m()\u001b[0m\n\u001b[1;32m     11\u001b[0m   \u001b[0;32mfor\u001b[0m \u001b[0mf\u001b[0m \u001b[0;32min\u001b[0m \u001b[0mtqdm\u001b[0m\u001b[0;34m(\u001b[0m\u001b[0mlist\u001b[0m\u001b[0;34m(\u001b[0m\u001b[0mpath\u001b[0m\u001b[0;34m.\u001b[0m\u001b[0mglob\u001b[0m\u001b[0;34m(\u001b[0m\u001b[0;34m'*/**/*.csv.gz'\u001b[0m\u001b[0;34m)\u001b[0m\u001b[0;34m)\u001b[0m\u001b[0;34m)\u001b[0m\u001b[0;34m:\u001b[0m\u001b[0;34m\u001b[0m\u001b[0;34m\u001b[0m\u001b[0m\n\u001b[1;32m     12\u001b[0m     \u001b[0;31m# get temp DataFrame and format it\u001b[0m\u001b[0;34m\u001b[0m\u001b[0;34m\u001b[0m\u001b[0;34m\u001b[0m\u001b[0m\n\u001b[0;32m---> 13\u001b[0;31m     \u001b[0mtemp\u001b[0m \u001b[0;34m=\u001b[0m \u001b[0mpd\u001b[0m\u001b[0;34m.\u001b[0m\u001b[0mread_csv\u001b[0m\u001b[0;34m(\u001b[0m\u001b[0mf\u001b[0m\u001b[0;34m,\u001b[0m \u001b[0mparse_dates\u001b[0m\u001b[0;34m=\u001b[0m\u001b[0;34m[\u001b[0m\u001b[0;34m[\u001b[0m\u001b[0;34m'Date'\u001b[0m\u001b[0;34m,\u001b[0m \u001b[0;34m'TimeBarStart'\u001b[0m\u001b[0;34m]\u001b[0m\u001b[0;34m]\u001b[0m\u001b[0;34m)\u001b[0m\u001b[0;34m.\u001b[0m\u001b[0mrename\u001b[0m\u001b[0;34m(\u001b[0m\u001b[0mcolumns\u001b[0m\u001b[0;34m=\u001b[0m\u001b[0mstr\u001b[0m\u001b[0;34m.\u001b[0m\u001b[0mlower\u001b[0m\u001b[0;34m)\u001b[0m\u001b[0;34m.\u001b[0m\u001b[0mdrop\u001b[0m\u001b[0;34m(\u001b[0m\u001b[0mtime_cols\u001b[0m\u001b[0;34m+\u001b[0m\u001b[0mdrop_cols\u001b[0m\u001b[0;34m,\u001b[0m \u001b[0maxis\u001b[0m\u001b[0;34m=\u001b[0m\u001b[0;36m1\u001b[0m\u001b[0;34m)\u001b[0m\u001b[0;34m.\u001b[0m\u001b[0mrename\u001b[0m\u001b[0;34m(\u001b[0m\u001b[0mcolumns\u001b[0m\u001b[0;34m=\u001b[0m\u001b[0mcolumn_change\u001b[0m\u001b[0;34m)\u001b[0m\u001b[0;34m.\u001b[0m\u001b[0mset_index\u001b[0m\u001b[0;34m(\u001b[0m\u001b[0;34m'date_timebarstart'\u001b[0m\u001b[0;34m)\u001b[0m\u001b[0;34m.\u001b[0m\u001b[0msort_index\u001b[0m\u001b[0;34m(\u001b[0m\u001b[0;34m)\u001b[0m\u001b[0;34m\u001b[0m\u001b[0;34m\u001b[0m\u001b[0m\n\u001b[0m\u001b[1;32m     14\u001b[0m     \u001b[0mtemp\u001b[0m \u001b[0;34m=\u001b[0m \u001b[0mtemp\u001b[0m\u001b[0;34m.\u001b[0m\u001b[0mbetween_time\u001b[0m\u001b[0;34m(\u001b[0m\u001b[0;34m'9:30'\u001b[0m\u001b[0;34m,\u001b[0m \u001b[0;34m'16:00'\u001b[0m\u001b[0;34m)\u001b[0m\u001b[0;34m.\u001b[0m\u001b[0mset_index\u001b[0m\u001b[0;34m(\u001b[0m\u001b[0;34m'ticker'\u001b[0m\u001b[0;34m,\u001b[0m \u001b[0mappend\u001b[0m\u001b[0;34m=\u001b[0m\u001b[0;32mTrue\u001b[0m\u001b[0;34m)\u001b[0m\u001b[0;34m.\u001b[0m\u001b[0mswaplevel\u001b[0m\u001b[0;34m(\u001b[0m\u001b[0;34m)\u001b[0m\u001b[0;34m.\u001b[0m\u001b[0mrename\u001b[0m\u001b[0;34m(\u001b[0m\u001b[0mcolumns\u001b[0m \u001b[0;34m=\u001b[0m \u001b[0;32mlambda\u001b[0m \u001b[0mx\u001b[0m\u001b[0;34m:\u001b[0m \u001b[0mx\u001b[0m\u001b[0;34m.\u001b[0m\u001b[0mreplace\u001b[0m\u001b[0;34m(\u001b[0m\u001b[0;34m'tradeat'\u001b[0m\u001b[0;34m,\u001b[0m \u001b[0;34m'at'\u001b[0m\u001b[0;34m)\u001b[0m\u001b[0;34m)\u001b[0m\u001b[0;34m\u001b[0m\u001b[0;34m\u001b[0m\u001b[0m\n\u001b[1;32m     15\u001b[0m     \u001b[0;31m# append it to the data list\u001b[0m\u001b[0;34m\u001b[0m\u001b[0;34m\u001b[0m\u001b[0;34m\u001b[0m\u001b[0m\n",
            "\u001b[0;32m/usr/local/lib/python3.7/dist-packages/pandas/io/parsers.py\u001b[0m in \u001b[0;36mread_csv\u001b[0;34m(filepath_or_buffer, sep, delimiter, header, names, index_col, usecols, squeeze, prefix, mangle_dupe_cols, dtype, engine, converters, true_values, false_values, skipinitialspace, skiprows, skipfooter, nrows, na_values, keep_default_na, na_filter, verbose, skip_blank_lines, parse_dates, infer_datetime_format, keep_date_col, date_parser, dayfirst, cache_dates, iterator, chunksize, compression, thousands, decimal, lineterminator, quotechar, quoting, doublequote, escapechar, comment, encoding, dialect, error_bad_lines, warn_bad_lines, delim_whitespace, low_memory, memory_map, float_precision)\u001b[0m\n\u001b[1;32m    686\u001b[0m     )\n\u001b[1;32m    687\u001b[0m \u001b[0;34m\u001b[0m\u001b[0m\n\u001b[0;32m--> 688\u001b[0;31m     \u001b[0;32mreturn\u001b[0m \u001b[0m_read\u001b[0m\u001b[0;34m(\u001b[0m\u001b[0mfilepath_or_buffer\u001b[0m\u001b[0;34m,\u001b[0m \u001b[0mkwds\u001b[0m\u001b[0;34m)\u001b[0m\u001b[0;34m\u001b[0m\u001b[0;34m\u001b[0m\u001b[0m\n\u001b[0m\u001b[1;32m    689\u001b[0m \u001b[0;34m\u001b[0m\u001b[0m\n\u001b[1;32m    690\u001b[0m \u001b[0;34m\u001b[0m\u001b[0m\n",
            "\u001b[0;32m/usr/local/lib/python3.7/dist-packages/pandas/io/parsers.py\u001b[0m in \u001b[0;36m_read\u001b[0;34m(filepath_or_buffer, kwds)\u001b[0m\n\u001b[1;32m    458\u001b[0m \u001b[0;34m\u001b[0m\u001b[0m\n\u001b[1;32m    459\u001b[0m     \u001b[0;32mtry\u001b[0m\u001b[0;34m:\u001b[0m\u001b[0;34m\u001b[0m\u001b[0;34m\u001b[0m\u001b[0m\n\u001b[0;32m--> 460\u001b[0;31m         \u001b[0mdata\u001b[0m \u001b[0;34m=\u001b[0m \u001b[0mparser\u001b[0m\u001b[0;34m.\u001b[0m\u001b[0mread\u001b[0m\u001b[0;34m(\u001b[0m\u001b[0mnrows\u001b[0m\u001b[0;34m)\u001b[0m\u001b[0;34m\u001b[0m\u001b[0;34m\u001b[0m\u001b[0m\n\u001b[0m\u001b[1;32m    461\u001b[0m     \u001b[0;32mfinally\u001b[0m\u001b[0;34m:\u001b[0m\u001b[0;34m\u001b[0m\u001b[0;34m\u001b[0m\u001b[0m\n\u001b[1;32m    462\u001b[0m         \u001b[0mparser\u001b[0m\u001b[0;34m.\u001b[0m\u001b[0mclose\u001b[0m\u001b[0;34m(\u001b[0m\u001b[0;34m)\u001b[0m\u001b[0;34m\u001b[0m\u001b[0;34m\u001b[0m\u001b[0m\n",
            "\u001b[0;32m/usr/local/lib/python3.7/dist-packages/pandas/io/parsers.py\u001b[0m in \u001b[0;36mread\u001b[0;34m(self, nrows)\u001b[0m\n\u001b[1;32m   1196\u001b[0m     \u001b[0;32mdef\u001b[0m \u001b[0mread\u001b[0m\u001b[0;34m(\u001b[0m\u001b[0mself\u001b[0m\u001b[0;34m,\u001b[0m \u001b[0mnrows\u001b[0m\u001b[0;34m=\u001b[0m\u001b[0;32mNone\u001b[0m\u001b[0;34m)\u001b[0m\u001b[0;34m:\u001b[0m\u001b[0;34m\u001b[0m\u001b[0;34m\u001b[0m\u001b[0m\n\u001b[1;32m   1197\u001b[0m         \u001b[0mnrows\u001b[0m \u001b[0;34m=\u001b[0m \u001b[0m_validate_integer\u001b[0m\u001b[0;34m(\u001b[0m\u001b[0;34m\"nrows\"\u001b[0m\u001b[0;34m,\u001b[0m \u001b[0mnrows\u001b[0m\u001b[0;34m)\u001b[0m\u001b[0;34m\u001b[0m\u001b[0;34m\u001b[0m\u001b[0m\n\u001b[0;32m-> 1198\u001b[0;31m         \u001b[0mret\u001b[0m \u001b[0;34m=\u001b[0m \u001b[0mself\u001b[0m\u001b[0;34m.\u001b[0m\u001b[0m_engine\u001b[0m\u001b[0;34m.\u001b[0m\u001b[0mread\u001b[0m\u001b[0;34m(\u001b[0m\u001b[0mnrows\u001b[0m\u001b[0;34m)\u001b[0m\u001b[0;34m\u001b[0m\u001b[0;34m\u001b[0m\u001b[0m\n\u001b[0m\u001b[1;32m   1199\u001b[0m \u001b[0;34m\u001b[0m\u001b[0m\n\u001b[1;32m   1200\u001b[0m         \u001b[0;31m# May alter columns / col_dict\u001b[0m\u001b[0;34m\u001b[0m\u001b[0;34m\u001b[0m\u001b[0;34m\u001b[0m\u001b[0m\n",
            "\u001b[0;32m/usr/local/lib/python3.7/dist-packages/pandas/io/parsers.py\u001b[0m in \u001b[0;36mread\u001b[0;34m(self, nrows)\u001b[0m\n\u001b[1;32m   2155\u001b[0m     \u001b[0;32mdef\u001b[0m \u001b[0mread\u001b[0m\u001b[0;34m(\u001b[0m\u001b[0mself\u001b[0m\u001b[0;34m,\u001b[0m \u001b[0mnrows\u001b[0m\u001b[0;34m=\u001b[0m\u001b[0;32mNone\u001b[0m\u001b[0;34m)\u001b[0m\u001b[0;34m:\u001b[0m\u001b[0;34m\u001b[0m\u001b[0;34m\u001b[0m\u001b[0m\n\u001b[1;32m   2156\u001b[0m         \u001b[0;32mtry\u001b[0m\u001b[0;34m:\u001b[0m\u001b[0;34m\u001b[0m\u001b[0;34m\u001b[0m\u001b[0m\n\u001b[0;32m-> 2157\u001b[0;31m             \u001b[0mdata\u001b[0m \u001b[0;34m=\u001b[0m \u001b[0mself\u001b[0m\u001b[0;34m.\u001b[0m\u001b[0m_reader\u001b[0m\u001b[0;34m.\u001b[0m\u001b[0mread\u001b[0m\u001b[0;34m(\u001b[0m\u001b[0mnrows\u001b[0m\u001b[0;34m)\u001b[0m\u001b[0;34m\u001b[0m\u001b[0;34m\u001b[0m\u001b[0m\n\u001b[0m\u001b[1;32m   2158\u001b[0m         \u001b[0;32mexcept\u001b[0m \u001b[0mStopIteration\u001b[0m\u001b[0;34m:\u001b[0m\u001b[0;34m\u001b[0m\u001b[0;34m\u001b[0m\u001b[0m\n\u001b[1;32m   2159\u001b[0m             \u001b[0;32mif\u001b[0m \u001b[0mself\u001b[0m\u001b[0;34m.\u001b[0m\u001b[0m_first_chunk\u001b[0m\u001b[0;34m:\u001b[0m\u001b[0;34m\u001b[0m\u001b[0;34m\u001b[0m\u001b[0m\n",
            "\u001b[0;32mpandas/_libs/parsers.pyx\u001b[0m in \u001b[0;36mpandas._libs.parsers.TextReader.read\u001b[0;34m()\u001b[0m\n",
            "\u001b[0;32mpandas/_libs/parsers.pyx\u001b[0m in \u001b[0;36mpandas._libs.parsers.TextReader._read_low_memory\u001b[0;34m()\u001b[0m\n",
            "\u001b[0;32mpandas/_libs/parsers.pyx\u001b[0m in \u001b[0;36mpandas._libs.parsers.TextReader._read_rows\u001b[0;34m()\u001b[0m\n",
            "\u001b[0;32mpandas/_libs/parsers.pyx\u001b[0m in \u001b[0;36mpandas._libs.parsers.TextReader._convert_column_data\u001b[0;34m()\u001b[0m\n",
            "\u001b[0;32mpandas/_libs/parsers.pyx\u001b[0m in \u001b[0;36mpandas._libs.parsers.TextReader._convert_tokens\u001b[0;34m()\u001b[0m\n",
            "\u001b[0;32mpandas/_libs/parsers.pyx\u001b[0m in \u001b[0;36mpandas._libs.parsers.TextReader._convert_with_dtype\u001b[0;34m()\u001b[0m\n",
            "\u001b[0;32m/usr/local/lib/python3.7/dist-packages/pandas/core/dtypes/common.py\u001b[0m in \u001b[0;36mis_categorical_dtype\u001b[0;34m(arr_or_dtype)\u001b[0m\n\u001b[1;32m    528\u001b[0m \u001b[0;34m\u001b[0m\u001b[0m\n\u001b[1;32m    529\u001b[0m \u001b[0;34m\u001b[0m\u001b[0m\n\u001b[0;32m--> 530\u001b[0;31m \u001b[0;32mdef\u001b[0m \u001b[0mis_categorical_dtype\u001b[0m\u001b[0;34m(\u001b[0m\u001b[0marr_or_dtype\u001b[0m\u001b[0;34m)\u001b[0m \u001b[0;34m->\u001b[0m \u001b[0mbool\u001b[0m\u001b[0;34m:\u001b[0m\u001b[0;34m\u001b[0m\u001b[0;34m\u001b[0m\u001b[0m\n\u001b[0m\u001b[1;32m    531\u001b[0m     \"\"\"\n\u001b[1;32m    532\u001b[0m     \u001b[0mCheck\u001b[0m \u001b[0mwhether\u001b[0m \u001b[0man\u001b[0m \u001b[0marray\u001b[0m\u001b[0;34m-\u001b[0m\u001b[0mlike\u001b[0m \u001b[0;32mor\u001b[0m \u001b[0mdtype\u001b[0m \u001b[0;32mis\u001b[0m \u001b[0mof\u001b[0m \u001b[0mthe\u001b[0m \u001b[0mCategorical\u001b[0m \u001b[0mdtype\u001b[0m\u001b[0;34m.\u001b[0m\u001b[0;34m\u001b[0m\u001b[0;34m\u001b[0m\u001b[0m\n",
            "\u001b[0;31mKeyboardInterrupt\u001b[0m: "
          ]
        }
      ]
    },
    {
      "cell_type": "code",
      "metadata": {
        "id": "7dsbRmBgugCp"
      },
      "source": [
        "ee = nasdaq_path / 'nasdaq100'\n",
        "list(ee.glob('*/**/*.csv.gz'))"
      ],
      "execution_count": null,
      "outputs": []
    }
  ]
}
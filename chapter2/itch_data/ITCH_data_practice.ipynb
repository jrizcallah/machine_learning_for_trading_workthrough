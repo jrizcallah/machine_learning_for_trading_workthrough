{
  "nbformat": 4,
  "nbformat_minor": 0,
  "metadata": {
    "colab": {
      "name": "ITCH_data_practice.ipynb",
      "provenance": []
    },
    "kernelspec": {
      "name": "python3",
      "display_name": "Python 3"
    },
    "language_info": {
      "name": "python"
    }
  },
  "cells": [
    {
      "cell_type": "code",
      "metadata": {
        "id": "Nsu6op4xFFxi"
      },
      "source": [
        "import gzip\n",
        "import shutil\n",
        "from struct import unpack\n",
        "from collections import namedtuple, Counter, defaultdict\n",
        "from pathlib import Path\n",
        "from urllib.request import urlretrieve\n",
        "from urllib.parse import urljoin\n",
        "from datetime import timedelta\n",
        "from time import time\n",
        "\n",
        "import pandas as pd\n",
        "\n",
        "import matplotlib.pyplot as plt\n",
        "from matplotlib.ticker import FuncFormatter\n",
        "import seaborn as sns"
      ],
      "execution_count": 1,
      "outputs": []
    },
    {
      "cell_type": "code",
      "metadata": {
        "id": "VGHGsP8lfjQR"
      },
      "source": [
        "def format_time(time):\n",
        "  \"\"\" Returns a time with format HH:MM:SS from numeric time value, in seconds \"\"\"\n",
        "  m, s = divmod(time, 60)\n",
        "  h, m = divmod(m, 60)\n",
        "  return f\"{h:0>2.0f}:{m:0>2.0f}:{s:0>5.2f}\""
      ],
      "execution_count": 2,
      "outputs": []
    },
    {
      "cell_type": "markdown",
      "metadata": {
        "id": "JfAnhINZst_c"
      },
      "source": [
        "# ITCH\n",
        "\n",
        "ITCH, shorthand for TotalView-ITCH, is Nasdaq's direct data-feed reporting protocol. It allows subscribers to track individual orders from placement to execution or cancellation. With proper parsing, it allows reconstruction of the order book. Being able to read ITCH data is invaluable for algorithmic trading.\n",
        "\n",
        "So that's what we are going to work on today.\n",
        "\n",
        "Check the TotalView-ITCH documentation here:\n",
        "https://www.nasdaqtrader.com/content/technicalsupport/specifications/dataproducts/NQTVITCHSpecification.pdf"
      ]
    },
    {
      "cell_type": "markdown",
      "metadata": {
        "id": "S8IcK45xhFUz"
      },
      "source": [
        "#### Set Data Paths"
      ]
    },
    {
      "cell_type": "code",
      "metadata": {
        "id": "rZQVsEkEgLTl"
      },
      "source": [
        "data_path = Path('data')\n",
        "itch_store = str(data_path / 'itch.h5')\n",
        "order_book_store = data_path / 'order_book.h5'"
      ],
      "execution_count": 3,
      "outputs": []
    },
    {
      "cell_type": "code",
      "metadata": {
        "id": "PRksRuuPhXbt"
      },
      "source": [
        "FTP_URL = 'ftp://emi.nasdaq.com/ITCH/'\n",
        "SOURCE_FILE = '10302019.NASDAQ_ITCH50.gz'"
      ],
      "execution_count": 4,
      "outputs": []
    },
    {
      "cell_type": "markdown",
      "metadata": {
        "id": "7nGCQuw1imDR"
      },
      "source": [
        "#### Download and Unzip"
      ]
    },
    {
      "cell_type": "code",
      "metadata": {
        "id": "8FcPF-V9hYHc"
      },
      "source": [
        "def download(url):\n",
        "  \"\"\" Download and unzip ITCH data, if available \"\"\"\n",
        "\n",
        "  # create directory if we need to\n",
        "  if not data_path.exists():\n",
        "    data_path.mkdir()\n",
        "    print('Directory Created')\n",
        "  else:\n",
        "    print('Directory Already Exists')\n",
        "\n",
        "  filename = data_path / url.split('/')[-1]\n",
        "\n",
        "  # Download file if need be\n",
        "  if not filename.exists():\n",
        "    print('Downloading file...', url)\n",
        "    urlretrieve(url, filename)\n",
        "  else:\n",
        "    print('File already downloaded')\n",
        "\n",
        "  unzipped = data_path / (filename.stem + '.bin')\n",
        "\n",
        "  # unzip feel if need be\n",
        "  if not unzipped.exists():\n",
        "    print('Unzipping to', unzipped)\n",
        "    with gzip.open(str(filename), 'rb') as f_in:\n",
        "      with open(unzipped, 'wb') as f_out:\n",
        "        shutil.copyfileobj(f_in, f_out)\n",
        "  else:\n",
        "    print('File already unzipped')\n",
        "  \n",
        "  return unzipped"
      ],
      "execution_count": 6,
      "outputs": []
    },
    {
      "cell_type": "code",
      "metadata": {
        "colab": {
          "base_uri": "https://localhost:8080/"
        },
        "id": "WvQaIfWMlybT",
        "outputId": "e045679c-0d45-4e4c-e8af-521af16407f4"
      },
      "source": [
        "file_name = download(urljoin(FTP_URL, SOURCE_FILE))\n",
        "date = file_name.name.split('.')[0]"
      ],
      "execution_count": 7,
      "outputs": [
        {
          "output_type": "stream",
          "text": [
            "Directory Created\n",
            "Downloading file... ftp://emi.nasdaq.com/ITCH/10302019.NASDAQ_ITCH50.gz\n",
            "Unzipping to data/10302019.NASDAQ_ITCH50.bin\n"
          ],
          "name": "stdout"
        }
      ]
    },
    {
      "cell_type": "markdown",
      "metadata": {
        "id": "VUsCVZPypTFd"
      },
      "source": [
        "## Processing the file\n",
        "\n",
        "The ITCH data is in a binary file, but thankfully Python has the `struct` module to help us parse the information. \n",
        "\n",
        "I highly recommend taking a look at the module documentation here: \n",
        "https://docs.python.org/3/library/struct.html\n",
        "\n",
        "### Creating Formatting Dictionaries\n",
        "\n",
        "We will use a few dictionaries to \"translate\" the ITCH data into something we can more easily read and understand."
      ]
    },
    {
      "cell_type": "code",
      "metadata": {
        "id": "CRWuvIcdmH-7"
      },
      "source": [
        "event_codes = {'O':'Start of Messages',\n",
        "               'S':'Start of System Hours',\n",
        "               'Q':'Start of Market Hours',\n",
        "               'M':'End of Market Hours',\n",
        "               'E':'End of System Hours',\n",
        "               'C':'End of Messages'}"
      ],
      "execution_count": 8,
      "outputs": []
    },
    {
      "cell_type": "code",
      "metadata": {
        "id": "98YZVwKbq_Q4"
      },
      "source": [
        "variable_encoding = {'primary_market_maker': {'Y':1, 'N':0},\n",
        "                     'printable': {'Y':1, 'N':0},\n",
        "                     'buy_sell_indicator': {'B':1, 'S':-1},\n",
        "                     'cross_type': {'O':0, 'C':1, 'H':2},\n",
        "                     'imbalance_direction': {'B':0, 'S':1, 'N':0, 'O':-1}}"
      ],
      "execution_count": 9,
      "outputs": []
    },
    {
      "cell_type": "code",
      "metadata": {
        "id": "wAfgyCL-rwr-"
      },
      "source": [
        "formatting_dict = {\n",
        "    ('integer', 2):'H',\n",
        "    ('integer', 4):'I',\n",
        "    ('integer', 6):'6s',\n",
        "    ('integer', 8):'Q',\n",
        "\n",
        "    ('alpha', 1):'s',\n",
        "    ('alpha', 2):'2s',\n",
        "    ('alpha', 4):'4s',\n",
        "    ('alpha', 8):'8s',\n",
        "\n",
        "    ('price_4', 4):'I',\n",
        "    ('price_8', 8):'Q'\n",
        "}"
      ],
      "execution_count": 10,
      "outputs": []
    },
    {
      "cell_type": "markdown",
      "metadata": {
        "id": "vTL7W59vtrrR"
      },
      "source": [
        "### Message Types\n",
        "\n",
        "There are many different message types in ITCH, and the protocol includes an encoding system for the different types. It is a pretty long list...but thankfully, Stefan Jansen or one of his collaborators has taken on the tedious task of putting the codes into a .xlsx file for us. \n",
        "\n",
        "Get the file here:\n",
        "https://github.com/stefan-jansen/machine-learning-for-trading/blob/master/02_market_and_fundamental_data/01_NASDAQ_TotalView-ITCH_Order_Book/message_types.xlsx\n",
        "\n"
      ]
    },
    {
      "cell_type": "code",
      "metadata": {
        "colab": {
          "base_uri": "https://localhost:8080/",
          "height": 200
        },
        "id": "ipp1AsFWsZqY",
        "outputId": "afa3bff9-6674-4e1d-f14f-4c06103f701b"
      },
      "source": [
        "message_types = pd.read_excel('message_types.xlsx', sheet_name='messages')\n",
        "message_types = message_types.sort_values('id').drop('id', axis=1)\n",
        "message_types.head()"
      ],
      "execution_count": 17,
      "outputs": [
        {
          "output_type": "execute_result",
          "data": {
            "text/html": [
              "<div>\n",
              "<style scoped>\n",
              "    .dataframe tbody tr th:only-of-type {\n",
              "        vertical-align: middle;\n",
              "    }\n",
              "\n",
              "    .dataframe tbody tr th {\n",
              "        vertical-align: top;\n",
              "    }\n",
              "\n",
              "    .dataframe thead th {\n",
              "        text-align: right;\n",
              "    }\n",
              "</style>\n",
              "<table border=\"1\" class=\"dataframe\">\n",
              "  <thead>\n",
              "    <tr style=\"text-align: right;\">\n",
              "      <th></th>\n",
              "      <th>Name</th>\n",
              "      <th>Offset</th>\n",
              "      <th>Length</th>\n",
              "      <th>Value</th>\n",
              "      <th>Notes</th>\n",
              "    </tr>\n",
              "  </thead>\n",
              "  <tbody>\n",
              "    <tr>\n",
              "      <th>0</th>\n",
              "      <td>Message Type</td>\n",
              "      <td>0</td>\n",
              "      <td>1</td>\n",
              "      <td>S</td>\n",
              "      <td>System Event Message</td>\n",
              "    </tr>\n",
              "    <tr>\n",
              "      <th>1</th>\n",
              "      <td>Stock Locate</td>\n",
              "      <td>1</td>\n",
              "      <td>2</td>\n",
              "      <td>Integer</td>\n",
              "      <td>Always 0</td>\n",
              "    </tr>\n",
              "    <tr>\n",
              "      <th>2</th>\n",
              "      <td>Tracking Number</td>\n",
              "      <td>3</td>\n",
              "      <td>2</td>\n",
              "      <td>Integer</td>\n",
              "      <td>Nasdaq internal tracking number</td>\n",
              "    </tr>\n",
              "    <tr>\n",
              "      <th>3</th>\n",
              "      <td>Timestamp</td>\n",
              "      <td>5</td>\n",
              "      <td>6</td>\n",
              "      <td>Integer</td>\n",
              "      <td>Nanoseconds since midnight</td>\n",
              "    </tr>\n",
              "    <tr>\n",
              "      <th>4</th>\n",
              "      <td>Event Code</td>\n",
              "      <td>11</td>\n",
              "      <td>1</td>\n",
              "      <td>Alpha</td>\n",
              "      <td>See System Event Codes below</td>\n",
              "    </tr>\n",
              "  </tbody>\n",
              "</table>\n",
              "</div>"
            ],
            "text/plain": [
              "              Name   Offset   ...    Value                             Notes \n",
              "0     Message Type         0  ...         S             System Event Message \n",
              "1     Stock Locate         1  ...  Integer                          Always 0 \n",
              "2  Tracking Number         3  ...  Integer   Nasdaq internal tracking number \n",
              "3        Timestamp         5  ...  Integer        Nanoseconds since midnight \n",
              "4       Event Code        11  ...    Alpha      See System Event Codes below \n",
              "\n",
              "[5 rows x 5 columns]"
            ]
          },
          "metadata": {
            "tags": []
          },
          "execution_count": 17
        }
      ]
    },
    {
      "cell_type": "markdown",
      "metadata": {
        "id": "cGtZRxERvF2s"
      },
      "source": [
        "#### Clean the message_types Data"
      ]
    },
    {
      "cell_type": "code",
      "metadata": {
        "id": "X2XRa912uzAL"
      },
      "source": [
        "def clean_message_types(data):\n",
        "  \"\"\" Cleans up the message_types DataFrame, making it easier to work with in Python \"\"\"\n",
        "  data.columns = [c.lower().strip() for c in data.columns]\n",
        "  data.value = data.value.str.strip()\n",
        "  data.name = (data.name.str.strip().str.lower().str.replace(' ', '_').str.replace('-', '_').str.replace('/', '_'))\n",
        "  data.notes = data.notes.str.strip()\n",
        "  data['message_type'] = data.loc[data.name == 'message_type', 'value']\n",
        "  \n",
        "  return data"
      ],
      "execution_count": 30,
      "outputs": []
    },
    {
      "cell_type": "code",
      "metadata": {
        "id": "NAf_aU9Cvknx"
      },
      "source": [
        "message_types = clean_message_types(message_types)"
      ],
      "execution_count": 32,
      "outputs": []
    },
    {
      "cell_type": "code",
      "metadata": {
        "colab": {
          "base_uri": "https://localhost:8080/",
          "height": 200
        },
        "id": "h7w4FpEWwq-R",
        "outputId": "6e220648-7a50-489f-b901-7e725b31d44c"
      },
      "source": [
        "message_types.head()"
      ],
      "execution_count": 35,
      "outputs": [
        {
          "output_type": "execute_result",
          "data": {
            "text/html": [
              "<div>\n",
              "<style scoped>\n",
              "    .dataframe tbody tr th:only-of-type {\n",
              "        vertical-align: middle;\n",
              "    }\n",
              "\n",
              "    .dataframe tbody tr th {\n",
              "        vertical-align: top;\n",
              "    }\n",
              "\n",
              "    .dataframe thead th {\n",
              "        text-align: right;\n",
              "    }\n",
              "</style>\n",
              "<table border=\"1\" class=\"dataframe\">\n",
              "  <thead>\n",
              "    <tr style=\"text-align: right;\">\n",
              "      <th></th>\n",
              "      <th>name</th>\n",
              "      <th>offset</th>\n",
              "      <th>length</th>\n",
              "      <th>value</th>\n",
              "      <th>notes</th>\n",
              "      <th>message_type</th>\n",
              "    </tr>\n",
              "  </thead>\n",
              "  <tbody>\n",
              "    <tr>\n",
              "      <th>0</th>\n",
              "      <td>message_type</td>\n",
              "      <td>0</td>\n",
              "      <td>1</td>\n",
              "      <td>S</td>\n",
              "      <td>System Event Message</td>\n",
              "      <td>S</td>\n",
              "    </tr>\n",
              "    <tr>\n",
              "      <th>1</th>\n",
              "      <td>stock_locate</td>\n",
              "      <td>1</td>\n",
              "      <td>2</td>\n",
              "      <td>Integer</td>\n",
              "      <td>Always 0</td>\n",
              "      <td>NaN</td>\n",
              "    </tr>\n",
              "    <tr>\n",
              "      <th>2</th>\n",
              "      <td>tracking_number</td>\n",
              "      <td>3</td>\n",
              "      <td>2</td>\n",
              "      <td>Integer</td>\n",
              "      <td>Nasdaq internal tracking number</td>\n",
              "      <td>NaN</td>\n",
              "    </tr>\n",
              "    <tr>\n",
              "      <th>3</th>\n",
              "      <td>timestamp</td>\n",
              "      <td>5</td>\n",
              "      <td>6</td>\n",
              "      <td>Integer</td>\n",
              "      <td>Nanoseconds since midnight</td>\n",
              "      <td>NaN</td>\n",
              "    </tr>\n",
              "    <tr>\n",
              "      <th>4</th>\n",
              "      <td>event_code</td>\n",
              "      <td>11</td>\n",
              "      <td>1</td>\n",
              "      <td>Alpha</td>\n",
              "      <td>See System Event Codes below</td>\n",
              "      <td>NaN</td>\n",
              "    </tr>\n",
              "  </tbody>\n",
              "</table>\n",
              "</div>"
            ],
            "text/plain": [
              "              name  offset  ...                            notes message_type\n",
              "0     message_type       0  ...             System Event Message            S\n",
              "1     stock_locate       1  ...                         Always 0          NaN\n",
              "2  tracking_number       3  ...  Nasdaq internal tracking number          NaN\n",
              "3        timestamp       5  ...       Nanoseconds since midnight          NaN\n",
              "4       event_code      11  ...     See System Event Codes below          NaN\n",
              "\n",
              "[5 rows x 6 columns]"
            ]
          },
          "metadata": {
            "tags": []
          },
          "execution_count": 35
        }
      ]
    },
    {
      "cell_type": "markdown",
      "metadata": {
        "id": "VYwXwCqIw6c3"
      },
      "source": [
        "We are also going to extract the message_types so we can easily replace them with message_labels to make it more readable."
      ]
    },
    {
      "cell_type": "code",
      "metadata": {
        "colab": {
          "base_uri": "https://localhost:8080/",
          "height": 200
        },
        "id": "2UJKFWxNwv-A",
        "outputId": "f871f3c3-5959-4e84-c091-656edd12eb2b"
      },
      "source": [
        "message_labels = message_types.loc[:, ['message_type', 'notes']].dropna()\n",
        "message_labels.columns = ['message_type', 'name']\n",
        "message_labels.name = message_labels.name.str.lower().str.replace('message', '').str.replace('.', '').str.strip().str.replace(' ', '_')\n",
        "message_labels.head()"
      ],
      "execution_count": 40,
      "outputs": [
        {
          "output_type": "execute_result",
          "data": {
            "text/html": [
              "<div>\n",
              "<style scoped>\n",
              "    .dataframe tbody tr th:only-of-type {\n",
              "        vertical-align: middle;\n",
              "    }\n",
              "\n",
              "    .dataframe tbody tr th {\n",
              "        vertical-align: top;\n",
              "    }\n",
              "\n",
              "    .dataframe thead th {\n",
              "        text-align: right;\n",
              "    }\n",
              "</style>\n",
              "<table border=\"1\" class=\"dataframe\">\n",
              "  <thead>\n",
              "    <tr style=\"text-align: right;\">\n",
              "      <th></th>\n",
              "      <th>message_type</th>\n",
              "      <th>name</th>\n",
              "    </tr>\n",
              "  </thead>\n",
              "  <tbody>\n",
              "    <tr>\n",
              "      <th>0</th>\n",
              "      <td>S</td>\n",
              "      <td>system_event</td>\n",
              "    </tr>\n",
              "    <tr>\n",
              "      <th>5</th>\n",
              "      <td>R</td>\n",
              "      <td>stock_directory</td>\n",
              "    </tr>\n",
              "    <tr>\n",
              "      <th>23</th>\n",
              "      <td>H</td>\n",
              "      <td>stock_trading_action</td>\n",
              "    </tr>\n",
              "    <tr>\n",
              "      <th>31</th>\n",
              "      <td>Y</td>\n",
              "      <td>reg_sho_short_sale_price_test_restricted_indic...</td>\n",
              "    </tr>\n",
              "    <tr>\n",
              "      <th>37</th>\n",
              "      <td>L</td>\n",
              "      <td>market_participant_position</td>\n",
              "    </tr>\n",
              "  </tbody>\n",
              "</table>\n",
              "</div>"
            ],
            "text/plain": [
              "   message_type                                               name\n",
              "0             S                                       system_event\n",
              "5             R                                    stock_directory\n",
              "23            H                               stock_trading_action\n",
              "31            Y  reg_sho_short_sale_price_test_restricted_indic...\n",
              "37            L                        market_participant_position"
            ]
          },
          "metadata": {
            "tags": []
          },
          "execution_count": 40
        }
      ]
    },
    {
      "cell_type": "code",
      "metadata": {
        "id": "QHjGmx4wxRFx"
      },
      "source": [
        ""
      ],
      "execution_count": null,
      "outputs": []
    }
  ]
}